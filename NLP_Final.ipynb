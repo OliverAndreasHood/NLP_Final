{
  "nbformat": 4,
  "nbformat_minor": 0,
  "metadata": {
    "colab": {
      "name": "NLP_Final.ipynb",
      "provenance": [],
      "collapsed_sections": [],
      "include_colab_link": true
    },
    "kernelspec": {
      "name": "python3",
      "display_name": "Python 3"
    }
  },
  "cells": [
    {
      "cell_type": "markdown",
      "metadata": {
        "id": "view-in-github",
        "colab_type": "text"
      },
      "source": [
        "<a href=\"https://colab.research.google.com/github/OliverAndreasHood/NLP_Final/blob/main/NLP_Final.ipynb\" target=\"_parent\"><img src=\"https://colab.research.google.com/assets/colab-badge.svg\" alt=\"Open In Colab\"/></a>"
      ]
    },
    {
      "cell_type": "code",
      "metadata": {
        "id": "pD-p4Oai0_5J"
      },
      "source": [
        "##########################################################################\r\n",
        "#                                                                        #\r\n",
        "#                             NLP-FINAL                                  #\r\n",
        "#       which is the last winter semester project of the NLP course,     #\r\n",
        "#         student history from 2020 and 2021 in four python parts.       #\r\n",
        "#   Authors:                                                             #\r\n",
        "#       Piotr Szulc                                                      #\r\n",
        "#       Magdalena Lipka                                                  #\r\n",
        "#                                                                        #\r\n",
        "##########################################################################"
      ],
      "execution_count": null,
      "outputs": []
    },
    {
      "cell_type": "markdown",
      "metadata": {
        "id": "wXwC-0bz1UF9"
      },
      "source": [
        "# Preprocesing\r\n",
        "Przygotowanie i oczyszczenie tekstu do dalszej analizy:\r\n",
        "- zaimportowanie potrzebnych do tej części bibliotek\r\n",
        "- odczytanie pliku csv \r\n",
        "> csv.reader()\r\n",
        "- implementacja ogranicznika parsowania\r\n",
        "> \"lim\"\r\n",
        "- odfiltrowanie html'owskich znaków końca lini\r\n",
        "> row[0] = row[0].replace(\"< br />< br /\", \" \")\r\n",
        "- tokenizacja recenzji\r\n",
        "> row[0] = word_tokenize(row[0])\r\n",
        "- zmniejszenie dużych liter\r\n",
        "> word.lower()\r\n",
        "- usunięcie stopwords'ów\r\n",
        "- usunięcie liczb i innych znaków\r\n",
        "> (word.isalpha())\r\n",
        "- podział recenzji ze względu na sentyment (0 - Negatywne, 1 -> Pozytywne)\r\n",
        "- zwrot listy krotek \r\n",
        "> ([słowa, recenzji,...], sentyment)\r\n"
      ]
    },
    {
      "cell_type": "code",
      "metadata": {
        "id": "mK_chqjs2FfI"
      },
      "source": [
        "import csv\r\n",
        "from nltk import word_tokenize\r\n",
        "from nltk.corpus import stopwords\r\n",
        "import sys\r\n",
        "import time"
      ],
      "execution_count": null,
      "outputs": []
    },
    {
      "cell_type": "code",
      "metadata": {
        "id": "5vCESSAF1KWx"
      },
      "source": [
        "def load_csv2(file_path, l = [], lim = 0):\r\n",
        "    \"\"\"\r\n",
        "    file_path => type==str(), csv file with 2 columns separated with comma => (text, statement(0,1))\r\n",
        "    l => type==list() default l=[]\r\n",
        "    lim => type==int() default=0 (means parse whole file), number of lines to parse\r\n",
        "    \r\n",
        "    Loading function. Appending data to l as (row[0],row[1])\r\n",
        "    returns:\r\n",
        "        l = [[row[0], row[1]], ...]\r\n",
        "        statemen==0 => negative\r\n",
        "        len(pos) and len(neg)\r\n",
        "        alw => type==list(), filtered list of all words\r\n",
        "        \r\n",
        "    \"\"\"\r\n",
        "    #ładowanie pliku z podziałem na słowa i wykluczeniem stopwords, digit, punctuation\r\n",
        "    with open(file_path, \"r\", encoding='utf-8') as csv_file:\r\n",
        "        csv_reader = csv.reader(csv_file, delimiter=',')\r\n",
        "        sw =  set(stopwords.words(\"english\"))\r\n",
        "        line_count = 0\r\n",
        "        pos, neg, alw = [], [], []\r\n",
        "        percent = 0\r\n",
        "        \r\n",
        "        for row in csv_reader:\r\n",
        "            sys.stdout.write(f'\\rloading data' + f'\\t{percent:.1f}%\\t ({line_count})')\r\n",
        "            sys.stdout.flush()\r\n",
        "               \r\n",
        "            if line_count == 0:\r\n",
        "                line_count += 1\r\n",
        "            else:\r\n",
        "                row[0] = row[0].replace(\"<br /><br />\", \" \")\r\n",
        "                row[0] = word_tokenize(row[0])\r\n",
        "            \r\n",
        "                filtred = []\r\n",
        "                for word in row[0]:\r\n",
        "                    word = word.rstrip().lower()\r\n",
        "                    if word not in sw:\r\n",
        "                        if word.isalpha() == True:\r\n",
        "                            filtred.append(word)\r\n",
        "                            alw.append(word)\r\n",
        "                            \r\n",
        "                if int(row[1]) == 0:\r\n",
        "                     neg.append((filtred, int(row[1])))\r\n",
        "                else:\r\n",
        "                    pos.append((filtred, int(row[1])))\r\n",
        "                line_count += 1\r\n",
        "        \r\n",
        "        \r\n",
        "            # Ogranicznik parsowania\r\n",
        "            if lim == 0:\r\n",
        "                percent = (line_count)/50000*100\r\n",
        "            else:\r\n",
        "                percent = (line_count)/lim*100\r\n",
        "            \r\n",
        "            if lim != 0 and line_count == lim+1:\r\n",
        "                break\r\n",
        "            time.sleep(0.001)\r\n",
        "            \r\n",
        "        l = pos + neg\r\n",
        "        sys.stdout.write('\\rDone!       ')\r\n",
        "        time.sleep(1)\r\n",
        "    return l, len(pos), len(neg), alw"
      ],
      "execution_count": null,
      "outputs": []
    },
    {
      "cell_type": "markdown",
      "metadata": {
        "id": "FT-e4aDU3u59"
      },
      "source": [
        "#Wykonanie części pierwszej - Parsowanie"
      ]
    },
    {
      "cell_type": "code",
      "metadata": {
        "colab": {
          "base_uri": "https://localhost:8080/"
        },
        "id": "AurI4aa13x4o",
        "outputId": "e92bc17a-7ef3-4bf4-aa5b-9f1e44024e01"
      },
      "source": [
        "############################## PART_A ####################################\r\n",
        "# tworzę liste krotek \"a\" i liste wszystkich słów \"allwords\"\r\n",
        "a, p_len, n_len, allwords = load_csv2(\"movies_data.csv\", lim = 1018) \r\n",
        "# daję 1018 żeby później operować na ok.500 pos i 500 neg. Finalnie ustawi się 0 => całosć\r\n",
        "\r\n",
        "print(f\"\\n\\nNumber of reviews:\\nPositive: {p_len}\\nNegative: {n_len}\")\r\n",
        "if p_len == n_len: print(\"The data is \"+\"\\x1b[6;30;42m\"+\"balanced.\\n\"+'\\x1b[0m')\r\n",
        "else: print(\"The data is \"+'\\x1b[7;30;41m'+\"not balanced!\\n\"+\"\\x1b[0m\")"
      ],
      "execution_count": null,
      "outputs": [
        {
          "output_type": "stream",
          "text": [
            "Done!       \n",
            "\n",
            "Number of reviews:\n",
            "Positive: 518\n",
            "Negative: 500\n",
            "The data is \u001b[7;30;41mnot balanced!\n",
            "\u001b[0m\n"
          ],
          "name": "stdout"
        }
      ]
    },
    {
      "cell_type": "markdown",
      "metadata": {
        "id": "dFbYzrZ66QaW"
      },
      "source": [
        "#2. Wstępna analiza tekstu\r\n",
        "- Ilość słów w recenzjach\r\n",
        "- Ilość unikatowych słów w recenzjach\r\n",
        "- rozkład 40 najpopularniejszych słów"
      ]
    },
    {
      "cell_type": "code",
      "metadata": {
        "id": "lpV9kEf36yGG"
      },
      "source": [
        "from nltk.probability import FreqDist\r\n",
        "import time"
      ],
      "execution_count": null,
      "outputs": []
    },
    {
      "cell_type": "code",
      "metadata": {
        "id": "raKU6dtU6vXs"
      },
      "source": [
        "def word_counter2(alw, out=False, cl = 10):\r\n",
        "    \"\"\"\r\n",
        "    alw => type==list, list of words to count\r\n",
        "    out => type==bool default = False, to print out BoW, SoW and most_common_words plot.\r\n",
        "    cl => type==int default = 10, number of most_common_words to plot.\r\n",
        "    \r\n",
        "    if out:\r\n",
        "        printing BagOfWords lenght\r\n",
        "        printing SetOfWords lenght\r\n",
        "        ploting [cl] most_common words \r\n",
        "    returning BoW dict, type==probability.FreqDist \r\n",
        "    \"\"\"\r\n",
        "    if out: print(f'Number of all words:\\t{len(alw)}')\r\n",
        "    BoW = FreqDist(alw)\r\n",
        "    if out: print(f'Number of unique words:\\t{len(set(BoW))}\\n')\r\n",
        "    \r\n",
        "    time.sleep(1)\r\n",
        "    if out: BoW.plot(cl,title=f'Distribution of the {cl} most common words')\r\n",
        "    \r\n",
        "    return BoW"
      ],
      "execution_count": null,
      "outputs": []
    },
    {
      "cell_type": "markdown",
      "metadata": {
        "id": "___T7GwN6rMd"
      },
      "source": [
        "#Wykonanie cześci drugiej"
      ]
    },
    {
      "cell_type": "code",
      "metadata": {
        "colab": {
          "base_uri": "https://localhost:8080/",
          "height": 389
        },
        "id": "PueZ7U3D6lOd",
        "outputId": "202c9554-51e7-44a4-c38d-a3d06b2dccf2"
      },
      "source": [
        "############################## PART_B ####################################\r\n",
        "# tworzę BagOfWords i wypusuję wartosci Bow,Sow + plot 40 most_common\r\n",
        "bow = word_counter2(allwords, cl = 40, out=True)"
      ],
      "execution_count": null,
      "outputs": [
        {
          "output_type": "stream",
          "text": [
            "Number of all words:\t119411\n",
            "Number of unique words:\t18007\n",
            "\n"
          ],
          "name": "stdout"
        },
        {
          "output_type": "display_data",
          "data": {
            "image/png": "[encoded data removed]",
            "text/plain": [
              "<Figure size 432x288 with 1 Axes>"
            ]
          },
          "metadata": {
            "tags": [],
            "needs_background": "light"
          }
        }
      ]
    },
    {
      "cell_type": "markdown",
      "metadata": {
        "id": "_TPxIzZ67D8F"
      },
      "source": [
        "#3. Analiza danych algorytmami klasycznymi\r\n",
        "- Zaimportowanie potrzebnych modułów i funkcji"
      ]
    },
    {
      "cell_type": "code",
      "metadata": {
        "id": "fjjDDYAj7kww"
      },
      "source": [
        "import numpy as np\r\n",
        "import random\r\n",
        "import nltk\r\n",
        "import sys\r\n",
        "import time\r\n",
        "from nltk.classify.scikitlearn import SklearnClassifier\r\n",
        "from sklearn.naive_bayes import MultinomialNB\r\n",
        "from sklearn.linear_model import LogisticRegression\r\n",
        "from sklearn.svm import LinearSVC\r\n",
        "from nltk.classify import ClassifierI\r\n",
        "from statistics import mode"
      ],
      "execution_count": null,
      "outputs": []
    },
    {
      "cell_type": "code",
      "metadata": {
        "id": "1CZRA5PU7sT5"
      },
      "source": [
        "def find_features(document, word_features):\r\n",
        "        words = set(document)\r\n",
        "        features = {}\r\n",
        "        for w in word_features:\r\n",
        "            features[w] = (w in words)\r\n",
        "        return features"
      ],
      "execution_count": null,
      "outputs": []
    },
    {
      "cell_type": "markdown",
      "metadata": {
        "id": "kpGvNynP8V-9"
      },
      "source": [
        "- Funkcja analizująca tekst w oparciu o klasyczny algorytm Naive Bayes z wypisaniem słów najbardziej informatywnych"
      ]
    },
    {
      "cell_type": "code",
      "metadata": {
        "id": "ji4-yIw98hou"
      },
      "source": [
        "##########################1.Naive Bayes + most informative words ###############\r\n",
        "\r\n",
        "def NaivB1(revs, BoW, lim=3000, TrSet=0.8, outacc=False, mostif=False, mif=10):\r\n",
        "    \"\"\"\r\n",
        "    revs => type==list, parsed input data as [([words], statement), ([...],.), ...]\r\n",
        "    Bow => type==probability.FreqDist, BagOfWords representation of l, \r\n",
        "    lim => type==int. word_features cut-off \r\n",
        "    TrSet => type==float default 0.8, size of Trening_Set. Testing_set = 1 - TrSet    \r\n",
        "    outacc => type==bool default = False, print out Naive Bayes acc.\r\n",
        "    mostif => type==bool default False, print n most informative futures from Naive Bayes Classifier \r\n",
        "    mif => type==int default 10, number of most informative features to print, have to be greater than 0.\r\n",
        "    \"\"\"\r\n",
        "    start = time.time()\r\n",
        "    print('Classic Naive Bayes algorythm\\n')\r\n",
        "   \r\n",
        "    sys.stdout.write(\"\\r=> Preparing . \") #Lista branych pod uwagę słów o wielkości [:lim]\r\n",
        "    wf = list(BoW.keys())[:lim] \r\n",
        "    \r\n",
        "    sys.stdout.write(\"\\r=> Preparing #. \")  #Przemieszanie recenzji\r\n",
        "    random.shuffle(revs)\r\n",
        "    \r\n",
        "    sys.stdout.write(\"\\r=> Preparing ##. \") #Przeliczenie %TrSet na indeks ostatniej recenzji z setu treningowego\r\n",
        "    TrSet = int(len(revs)*TrSet)  \r\n",
        "    \r\n",
        "    sys.stdout.write(\"\\r=> Preparing ###. \")  #Utworzenie featuresets\r\n",
        "    featuresets = [(find_features(rev, wf),category) for (rev,category) in revs]\r\n",
        "    \r\n",
        "    sys.stdout.write(\"\\r=> Preparing ####. \") #Podział na set treningowy i testowy\r\n",
        "    training_set = featuresets[:TrSet]   \r\n",
        "    testing_set = featuresets[TrSet:]\r\n",
        "    sys.stdout.write(f\"\\rPreparing time {time.time()-start:.2f} s\\n\")\r\n",
        "    \r\n",
        "    start = time.time()\r\n",
        "    sys.stdout.write(\"\\r=> Training..  \") #Trenowanie modelu\r\n",
        "    NB_classifier = nltk.NaiveBayesClassifier.train(training_set)\r\n",
        "    sys.stdout.write(f\"\\rTraining time  {time.time()-start:.2f} s\\n\")\r\n",
        "    \r\n",
        "    start = time.time()\r\n",
        "    sys.stdout.write(\"\\r=> Testing..  \")  #Testowanie modelu\r\n",
        "    acc = (nltk.classify.accuracy(NB_classifier,testing_set))*100\r\n",
        "    sys.stdout.write(f\"\\rTesting time  {time.time()-start:.2f} s\\n\")\r\n",
        "    time.sleep(1)    \r\n",
        "    \r\n",
        "    if outacc: print(f\"\\n> The accuracy of the MNB Naive Bayes method to the classification problem on the test set is: {acc:.2f}\") \r\n",
        "    time.sleep(2)    \r\n",
        "    if mostif and mif>0: NB_classifier.show_most_informative_features(mif)\r\n",
        "    return "
      ],
      "execution_count": null,
      "outputs": []
    },
    {
      "cell_type": "code",
      "metadata": {
        "colab": {
          "base_uri": "https://localhost:8080/"
        },
        "id": "A_hwR2f39zAn",
        "outputId": "a1291e13-16a9-46c0-8f9d-6e350d6592ec"
      },
      "source": [
        "############################## PART_C ####################################\r\n",
        "# odpalamy klasyczy Naive Bayes do wypisania najważniejszych słów\r\n",
        "NaivB1(a, bow, outacc=True, mostif=True, mif=15)"
      ],
      "execution_count": null,
      "outputs": [
        {
          "output_type": "stream",
          "text": [
            "Classic Naive Bayes algorythm\n",
            "\n",
            "Preparing time 0.35 s\n",
            "Training time  3.05 s\n",
            "Testing time  1.48 s\n",
            "\n",
            "> The accuracy of the MNB Naive Bayes method to the classification problem on the test set is: 79.90\n",
            "Most Informative Features\n",
            "                   worst = True                0 : 1      =     15.9 : 1.0\n",
            "                   fails = True                0 : 1      =     13.3 : 1.0\n",
            "                    crap = True                0 : 1      =     11.0 : 1.0\n",
            "                   awful = True                0 : 1      =     10.4 : 1.0\n",
            "                  subtle = True                1 : 0      =      8.4 : 1.0\n",
            "                  loving = True                1 : 0      =      8.4 : 1.0\n",
            "              whatsoever = True                0 : 1      =      8.3 : 1.0\n",
            "                 seconds = True                0 : 1      =      8.3 : 1.0\n",
            "            nevertheless = True                1 : 0      =      7.7 : 1.0\n",
            "                   lives = True                1 : 0      =      7.7 : 1.0\n",
            "                nonsense = True                0 : 1      =      7.5 : 1.0\n",
            "                  asleep = True                0 : 1      =      7.5 : 1.0\n",
            "                    lame = True                0 : 1      =      7.1 : 1.0\n",
            "               wonderful = True                1 : 0      =      7.0 : 1.0\n",
            "                    hill = True                0 : 1      =      6.8 : 1.0\n"
          ],
          "name": "stdout"
        }
      ]
    },
    {
      "cell_type": "markdown",
      "metadata": {
        "id": "Dv6QyNmk_P8E"
      },
      "source": [
        "- Zdefiniowanie funkcji potrzebnych do powtórzeń tworzenia modelów opartych o różne klasyfikatory"
      ]
    },
    {
      "cell_type": "code",
      "metadata": {
        "id": "opGelD1x_LIz"
      },
      "source": [
        "##########################1A. Naive Bayes #####################################\r\n",
        "\r\n",
        "def NaivB2(training_set, testing_set):\r\n",
        "      \r\n",
        "    MNB_classifier = SklearnClassifier(MultinomialNB())\r\n",
        "    MNB_classifier.train(training_set)\r\n",
        "    acc = (nltk.classify.accuracy(MNB_classifier,testing_set))*100\r\n",
        "        \r\n",
        "    return acc\r\n",
        "\r\n",
        "##########################2. Logistic Regression ##############################\r\n",
        "\r\n",
        "def LogRegr(training_set, testing_set):\r\n",
        "    \r\n",
        "    LogisticRegression_classifier = SklearnClassifier(LogisticRegression(solver='lbfgs', max_iter=300))\r\n",
        "    LogisticRegression_classifier.train(training_set)\r\n",
        "    acc = (nltk.classify.accuracy(LogisticRegression_classifier, testing_set))*100\r\n",
        "\r\n",
        "    return acc\r\n",
        "\r\n",
        "##########################3. SVM ##############################################\r\n",
        "\r\n",
        "def SvmF(training_set, testing_set):\r\n",
        "     \r\n",
        "    LinearSVC_classifier = SklearnClassifier(LinearSVC())\r\n",
        "    LinearSVC_classifier.train(training_set)\r\n",
        "    acc = (nltk.classify.accuracy(LinearSVC_classifier, testing_set))*100\r\n",
        "        \r\n",
        "    return acc\r\n",
        "\r\n",
        "##########################4. Aggregated all above #############################\r\n",
        "\r\n",
        "class AggClassifier(ClassifierI):\r\n",
        "    def __init__(self, *classifiers):\r\n",
        "        self._classifiers = classifiers\r\n",
        "\r\n",
        "    def classify(self, features):\r\n",
        "        votes = []\r\n",
        "        for c in self._classifiers:\r\n",
        "            v = c.classify(features)\r\n",
        "            votes.append(v)\r\n",
        "        return mode(votes)\r\n",
        "\r\n",
        "    def confidence(self, features):\r\n",
        "        votes = []\r\n",
        "        for c in self._classifiers:\r\n",
        "            v = c.classify(features)\r\n",
        "            votes.append(v)\r\n",
        "\r\n",
        "        choice_votes = votes.count(mode(votes))\r\n",
        "        conf = choice_votes / len(votes)\r\n",
        "        return conf\r\n",
        "\r\n",
        "def AllF(training_set, testing_set):\r\n",
        "\r\n",
        "    MNB_classifier = SklearnClassifier(MultinomialNB())\r\n",
        "    MNB_classifier.train(training_set)\r\n",
        "\r\n",
        "    LogisticRegression_classifier = SklearnClassifier(LogisticRegression(solver='lbfgs', max_iter=300))\r\n",
        "    LogisticRegression_classifier.train(training_set)\r\n",
        "\r\n",
        "    LinearSVC_classifier = SklearnClassifier(LinearSVC())\r\n",
        "    LinearSVC_classifier.train(training_set)\r\n",
        "    \r\n",
        "    agg_classifier = AggClassifier(MNB_classifier,\r\n",
        "                                   LogisticRegression_classifier,\r\n",
        "                                   LinearSVC_classifier)\r\n",
        "    \r\n",
        "    acc = (nltk.classify.accuracy(agg_classifier, testing_set))*100\r\n",
        "        \r\n",
        "    return acc"
      ],
      "execution_count": null,
      "outputs": []
    },
    {
      "cell_type": "markdown",
      "metadata": {
        "id": "4l-irXrGAL3k"
      },
      "source": [
        "- Zdefiniowanie funkcji wykonującej zadane powtórzenia wypisująca również średnie dokładności każdej z metod"
      ]
    },
    {
      "cell_type": "code",
      "metadata": {
        "id": "Ql1Q4-AMAZuL"
      },
      "source": [
        "def Cmain_f(revs, BoW, lim=3000, TrSet=0.8, repeats=2, auto=False, ls_acc=True):\r\n",
        "    \"\"\"\r\n",
        "    revs => type==list, parsed input data as [([words], statement), ([...],.), ...]\r\n",
        "    Bow => type==probability.FreqDist, BagOfWords representation of l, \r\n",
        "    lim => type==int. word_features cut-off \r\n",
        "    TrSet => type==float default 0.8, size of Trening_Set. Testing_set = 1 - TrSet    \r\n",
        "    repeats => type==int default 0, repeats number of choosen method\r\n",
        "    auto => type==bool default False, repeat all methods autmoaticly\r\n",
        "    ls_acc => type==bool default True, list acc of each one repeat.\r\n",
        "    \"\"\"\r\n",
        "    print(\"\\nC_main reading input config...\")\r\n",
        "    time.sleep(1)\r\n",
        "    \r\n",
        "    #końcowa tabela zbiorcza\r\n",
        "    accs = []\r\n",
        "    \r\n",
        "    if auto:\r\n",
        "        print(\"> Proces will repeat automaticly for all methods.\")\r\n",
        "        func = \"AUTO\"\r\n",
        "        time.sleep(1)\r\n",
        "    else:\r\n",
        "        x = input(\"#Runing method repeats#\\nChoose one following methods:\\n1 => Naive Bayes\\n2 => Logistic Regresion\\n3 => Linear SVM\\n4 => Aggregated all above\\n> \")\r\n",
        "        methods = ['1','2','3','4']\r\n",
        "        if x in methods:\r\n",
        "            if x == \"1\": func = \"NB\"\r\n",
        "            elif x == \"2\": func = \"LR\"\r\n",
        "            elif x == \"3\": func = \"SVM\"\r\n",
        "            elif x == \"4\": func = \"ALL\"\r\n",
        "        else:\r\n",
        "            print(\"Wrong input!\")\r\n",
        "            return False    \r\n",
        "    \r\n",
        "    sys.stdout.write(\"\\rCreating Data Sets => Preparing.. \")\r\n",
        "    wf = list(BoW.keys())[:lim]\r\n",
        "    TrSet = int(len(revs)*TrSet)\r\n",
        "    random.shuffle(revs)\r\n",
        "    \r\n",
        "    sys.stdout.write(\"\\rCreating Data Sets => Indexing..  \")\r\n",
        "    featuresets = [(find_features(rev,wf),category) for (rev,category) in revs]\r\n",
        "    sys.stdout.write(\"\\rCreating Data Sets => Done         \\n\")\r\n",
        "    \r\n",
        "    if func == \"NB\" or func == \"AUTO\":  #Pętla dla algorytmu Naive Bayes\r\n",
        "        NBacc_list = []\r\n",
        "        i=repeats\r\n",
        "        print(f'\\nRuning MNB Naive Bayes {repeats} repeats..')\r\n",
        "        while i:\r\n",
        "            random.shuffle(featuresets)\r\n",
        "            training_set = featuresets[:TrSet]\r\n",
        "            testing_set = featuresets[TrSet:]\r\n",
        "            sys.stdout.write(f\"\\rRun No.{repeats-i+1} \")\r\n",
        "            \r\n",
        "            NBacc_list.append(NaivB2(training_set, testing_set))\r\n",
        "            if ls_acc: print(f'acc: {NBacc_list[repeats-i]:.2f}')\r\n",
        "            i-=1\r\n",
        "\r\n",
        "        #Wyznaczenie i wypisanie średniej dokładności        \r\n",
        "        NBacc = np.mean(NBacc_list)\r\n",
        "        print(f'MNB Naive Bayes method mean accuracy in {repeats} repeats: {NBacc:.4f}\\n')\r\n",
        "        accs.append((\"NB\", NBacc, NBacc_list))\r\n",
        "        time.sleep(1)\r\n",
        "        \r\n",
        "    if func == \"LR\" or func == \"AUTO\":  #Pętla dla algorytmu Logistic Regression\r\n",
        "        LRacc_list = []\r\n",
        "        i=repeats\r\n",
        "        print(f\"\\nRuning Logistic Regression {repeats} repeats..\")\r\n",
        "        while i:\r\n",
        "            random.shuffle(featuresets)\r\n",
        "            training_set = featuresets[:TrSet]\r\n",
        "            testing_set = featuresets[TrSet:]\r\n",
        "            sys.stdout.write(f\"\\rRun No.{repeats-i+1} \")\r\n",
        "            \r\n",
        "            LRacc_list.append(LogRegr(training_set, testing_set))\r\n",
        "            if ls_acc: print(f'acc: {LRacc_list[repeats-i]:.2f}')\r\n",
        "            i-=1\r\n",
        "            \r\n",
        "        LRacc = np.mean(LRacc_list)\r\n",
        "        print(f'Logistic Regression method mean accuracy in {repeats} repeats: {LRacc:.4f}\\n')\r\n",
        "        accs.append((\"LR\", LRacc, LRacc_list))\r\n",
        "        time.sleep(1)\r\n",
        "\r\n",
        "    if func == \"SVM\" or func == \"AUTO\": #Pętla dla algorytmu SVM\r\n",
        "        SVMacc_list = []\r\n",
        "        i=repeats\r\n",
        "        print(f\"\\nRuning Linear SVM {repeats} repeats..\")\r\n",
        "        while i:\r\n",
        "            random.shuffle(featuresets)\r\n",
        "            training_set = featuresets[:TrSet]\r\n",
        "            testing_set = featuresets[TrSet:]\r\n",
        "            sys.stdout.write(f\"\\rRun No.{repeats-i+1} \")\r\n",
        "            \r\n",
        "            SVMacc_list.append(SvmF(training_set, testing_set))\r\n",
        "            if ls_acc: print(f'acc: {SVMacc_list[repeats-i]:.2f}')\r\n",
        "            i-=1\r\n",
        "\r\n",
        "        SVMacc = np.mean(SVMacc_list)\r\n",
        "        print(f'Linear SVM method mean accuracy in {repeats} repeats: {SVMacc:.4f}\\n')\r\n",
        "        accs.append((\"SVM\", SVMacc, SVMacc_list))\r\n",
        "        time.sleep(1)\r\n",
        "\r\n",
        "    if func == \"ALL\" or func == \"AUTO\": #Pętla dla zagregowanego klasyfikatora\r\n",
        "        ALLacc_list = []\r\n",
        "        i=repeats\r\n",
        "        print(f\"\\nRuning Aggregated classifier {repeats} repeats..\")\r\n",
        "        while i:\r\n",
        "            random.shuffle(featuresets)\r\n",
        "            training_set = featuresets[:TrSet]\r\n",
        "            testing_set = featuresets[TrSet:]\r\n",
        "            sys.stdout.write(f\"\\rRun No.{repeats-i+1} \")\r\n",
        "            \r\n",
        "            ALLacc_list.append(AllF(training_set, testing_set))\r\n",
        "            if ls_acc: print(f'acc: {ALLacc_list[repeats-i]:.2f}')\r\n",
        "            i-=1\r\n",
        "\r\n",
        "        ALLacc = np.mean(ALLacc_list)\r\n",
        "        print(f'Aggregated classifier method mean accuracy in {repeats} repeats: {ALLacc:.4f}\\n')\r\n",
        "        accs.append((\"ALL\", ALLacc, ALLacc_list))\r\n",
        "        time.sleep(1)\r\n",
        "\r\n",
        "    return accs"
      ],
      "execution_count": null,
      "outputs": []
    },
    {
      "cell_type": "code",
      "metadata": {
        "colab": {
          "base_uri": "https://localhost:8080/"
        },
        "id": "vjnXoh_OAq7j",
        "outputId": "93190085-0236-4809-f1f9-a9f57e718970"
      },
      "source": [
        "# odpalam serię wszystkich metod (auto=True) po 10 powtórzeń, zwraca listę wyników.\r\n",
        "accs = Cmain_f(a, bow, repeats=10, auto=True)"
      ],
      "execution_count": null,
      "outputs": [
        {
          "output_type": "stream",
          "text": [
            "\n",
            "C_main reading input config...\n",
            "Proces will repeat automaticly for all methods.\n",
            "Creating Data Sets => Done         \n",
            "\n",
            "Runing MNB Naive Bayes 10 repeats..\n",
            "Run No.1 acc: 86.76\n",
            "Run No.2 acc: 78.92\n",
            "Run No.3 acc: 81.37\n",
            "Run No.4 acc: 80.39\n",
            "Run No.5 acc: 81.86\n",
            "Run No.6 acc: 86.27\n",
            "Run No.7 acc: 82.84\n",
            "Run No.8 acc: 85.29\n",
            "Run No.9 acc: 80.88\n",
            "Run No.10 acc: 81.37\n",
            "MNB Naive Bayes method mean accuracy in 10 repeats: 82.5980\n",
            "\n",
            "\n",
            "Runing Logistic Regression 10 repeats..\n",
            "Run No.1 acc: 80.39\n",
            "Run No.2 acc: 84.80\n",
            "Run No.3 acc: 78.43\n",
            "Run No.4 acc: 81.37\n",
            "Run No.5 acc: 77.45\n",
            "Run No.6 acc: 75.00\n",
            "Run No.7 acc: 79.90\n",
            "Run No.8 acc: 80.39\n",
            "Run No.9 acc: 80.88\n",
            "Run No.10 acc: 82.84\n",
            "Logistic Regression method mean accuracy in 10 repeats: 80.1471\n",
            "\n",
            "\n",
            "Runing Linear SVM 10 repeats..\n",
            "Run No.1 acc: 75.98\n",
            "Run No.2 acc: 75.49\n",
            "Run No.3 acc: 75.49\n",
            "Run No.4 acc: 74.02\n",
            "Run No.5 acc: 79.90\n",
            "Run No.6 acc: 75.98\n",
            "Run No.7 acc: 80.39\n",
            "Run No.8 acc: 72.55\n",
            "Run No.9 acc: 78.92\n",
            "Run No.10 acc: 76.47\n",
            "Linear SVM method mean accuracy in 10 repeats: 76.5196\n",
            "\n",
            "\n",
            "Runing Aggregated classifier 10 repeats..\n",
            "Run No.1 acc: 77.94\n",
            "Run No.2 acc: 82.84\n",
            "Run No.3 acc: 81.37\n",
            "Run No.4 acc: 82.35\n",
            "Run No.5 acc: 83.82\n",
            "Run No.6 acc: 77.45\n",
            "Run No.7 acc: 79.41\n",
            "Run No.8 acc: 80.39\n",
            "Run No.9 acc: 81.86\n",
            "Run No.10 acc: 80.88\n",
            "Aggregated classifier method mean accuracy in 10 repeats: 80.8333\n",
            "\n"
          ],
          "name": "stdout"
        }
      ]
    },
    {
      "cell_type": "markdown",
      "metadata": {
        "id": "G5e375zdBueY"
      },
      "source": [
        "#4. Analiza oparta o sieci neuronowe\r\n"
      ]
    },
    {
      "cell_type": "code",
      "metadata": {
        "id": "_vCEHi3BB5S_"
      },
      "source": [
        "import torch\r\n",
        "import torch.nn as nn\r\n",
        "import torch.nn.functional as F\r\n",
        "import torch.autograd as autograd\r\n",
        "import torchtext\r\n",
        "import matplotlib.pyplot as plt"
      ],
      "execution_count": null,
      "outputs": []
    },
    {
      "cell_type": "markdown",
      "metadata": {
        "id": "XBX03wdaB79l"
      },
      "source": [
        "1. Reprezentacja (Bag of Words) i jedno przekształcenie liniowe\r\n",
        "> Trening_set = 80%; Test_set = 20%\r\n"
      ]
    },
    {
      "cell_type": "code",
      "metadata": {
        "id": "9Q4ckApCCGtH"
      },
      "source": [
        "def bow_and_web(revs, TrSet=0.8):\r\n",
        "    TrSet = int(len(revs)*TrSet)\r\n",
        "    training_set=revs[:TrSet]\r\n",
        "    test_set=revs[TrSet:]\r\n",
        "    \r\n",
        "    label_to_ix = {0: 0, 1: 1 }\r\n",
        "    \r\n",
        "    word_to_ix = {} #zbior slow z indywidualna liczba\r\n",
        "    for sent, _ in training_set + test_set:\r\n",
        "        for word in sent:\r\n",
        "            if word not in word_to_ix:\r\n",
        "                word_to_ix[word] = len(word_to_ix)\r\n",
        "\r\n",
        "    VOCAB_SIZE = len(word_to_ix)  # ile wszysktich slow\r\n",
        "    NUM_LABELS = len(label_to_ix) # ile kategorii\r\n",
        "\r\n",
        "    #pomocnicza funkcja1\r\n",
        "\r\n",
        "    def make_bow_vector(sentence, word_to_ix):\r\n",
        "        vec = torch.zeros(len(word_to_ix))\r\n",
        "        for word in sentence:\r\n",
        "            vec[word_to_ix[word]] += 1\r\n",
        "            return vec.view(1, -1)\r\n",
        "        \r\n",
        "    #pomocnicza funkcja2\r\n",
        "\r\n",
        "    def make_target(label, label_to_ix):\r\n",
        "        return torch.LongTensor([label_to_ix[label]])\r\n",
        "    \r\n",
        "    #Model\r\n",
        "\r\n",
        "    class BoWClassifier(nn.Module):  \r\n",
        "        def __init__(self, num_labels, vocab_size):\r\n",
        "            super().__init__()\r\n",
        "            self.linear = nn.Linear(vocab_size, num_labels)\r\n",
        "        \r\n",
        "        def forward(self, bow_vec):\r\n",
        "            return F.log_softmax(self.linear(bow_vec), dim = 1)\r\n",
        "        \r\n",
        "    model = BoWClassifier(NUM_LABELS, VOCAB_SIZE)\r\n",
        "    loss_function = nn.NLLLoss()\r\n",
        "    optimizer = torch.optim.SGD(model.parameters(), lr=0.1)\r\n",
        "\r\n",
        "    n_iters = 100\r\n",
        "    for epoch in range(n_iters):\r\n",
        "        for instance, label in training_set:     \r\n",
        "            bow_vec = autograd.Variable(make_bow_vector(instance, word_to_ix))\r\n",
        "            target = autograd.Variable(make_target(label, label_to_ix))\r\n",
        "    \r\n",
        "            #forward\r\n",
        "            log_probs = model(bow_vec)\r\n",
        "            loss = loss_function(log_probs, target)\r\n",
        "        \r\n",
        "            #backward\r\n",
        "            loss.backward()\r\n",
        "            optimizer.step()\r\n",
        "        \r\n",
        "            #zerujemy gradient\r\n",
        "            optimizer.zero_grad()\r\n",
        "    for instance, label in test_set:\r\n",
        "        bow_vec = autograd.Variable(make_bow_vector(instance, word_to_ix))\r\n",
        "        log_probs = model(bow_vec)\r\n",
        "\r\n",
        "    return (list(model.parameters()))"
      ],
      "execution_count": null,
      "outputs": []
    },
    {
      "cell_type": "markdown",
      "metadata": {
        "id": "EFI9KWvPCMOK"
      },
      "source": [
        "2. Embeddingi 200D {200 wymiarów }:\r\n",
        "> Każda recenzja jako suma/srednia aryt. jej embeddingów."
      ]
    },
    {
      "cell_type": "code",
      "metadata": {
        "colab": {
          "base_uri": "https://localhost:8080/"
        },
        "id": "r00BmuSsC6nv",
        "outputId": "709aabc1-a661-4ab9-e7a8-35aeacd1f5d9"
      },
      "source": [
        "glove = torchtext.vocab.GloVe(name=\"6B\", dim=200)"
      ],
      "execution_count": null,
      "outputs": [
        {
          "output_type": "stream",
          "text": [
            ".vector_cache/glove.6B.zip: 862MB [06:28, 2.22MB/s]                           \n",
            "100%|█████████▉| 399868/400000 [00:32<00:00, 12450.07it/s]"
          ],
          "name": "stderr"
        }
      ]
    },
    {
      "cell_type": "code",
      "metadata": {
        "id": "z4zMiHfLC-a4"
      },
      "source": [
        "def get_vectors(glove_vector, revs):\r\n",
        "    train, valid, test = [], [], [] #tworze trzy listy na dane train, valid i test\r\n",
        "    for i, line in enumerate(revs): #przechodze dane \r\n",
        "        rev = line[0]                 \r\n",
        "    \r\n",
        "        rev_emb = sum(glove_vector[w] for w in rev) \r\n",
        "        label = torch.tensor(int(line[1] == 1)).long() \r\n",
        "            \r\n",
        "        #dzielimy dane na trzy kategorie\r\n",
        "        if i % len(revs) < 0.7*len(revs):     \r\n",
        "            train.append((rev_emb, label)) \r\n",
        "        elif i == 0.7*len(revs):\r\n",
        "            valid.append((rev_emb, label))\r\n",
        "        elif i > 0.7*len(revs) and i <0.85*len(revs):\r\n",
        "            valid.append((rev_emb, label))\r\n",
        "        else:            \r\n",
        "            test.append((rev_emb, label)) \r\n",
        "    return train, valid, test\r\n"
      ],
      "execution_count": null,
      "outputs": []
    },
    {
      "cell_type": "code",
      "metadata": {
        "id": "J7hiFaXzG2y-"
      },
      "source": [
        "train, valid, test = get_vectors(glove) #przygotowuje sobie dane w oparciu o gotowe embeddingi z glove\r\n",
        "\r\n",
        "\r\n",
        "#za kazdym razem będzie bral 200 rekordow (przy trenowaniu) i co epoke tasujemy (shuffle = True)\r\n",
        "train_loader = torch.utils.data.DataLoader(train, batch_size=200, shuffle=True)\r\n",
        "valid_loader = torch.utils.data.DataLoader(valid, batch_size=200, shuffle=True)\r\n",
        "test_loader = torch.utils.data.DataLoader(test, batch_size=200, shuffle=True)"
      ],
      "execution_count": null,
      "outputs": []
    },
    {
      "cell_type": "code",
      "metadata": {
        "id": "RPLpBCm9DA-7"
      },
      "source": [
        "#trenowanie\r\n",
        "def train_network(model, train_loader, valid_loader, num_epochs=5, learning_rate=1e-5):\r\n",
        "    criterion = nn.CrossEntropyLoss()  #funkcja kosztu\r\n",
        "    optimizer = torch.optim.Adam(model.parameters(), lr=learning_rate) \r\n",
        "    losses, train_acc, valid_acc = [], [], []\r\n",
        "    epochs = []\r\n",
        "    \r\n",
        "    for epoch in range(num_epochs):          #dla kazdej epoki\r\n",
        "        for tweets, labels in train_loader:  #przechodze dane treningowe\r\n",
        "            optimizer.zero_grad()\r\n",
        "            pred = model(tweets)         \r\n",
        "            loss = criterion(pred, labels)\r\n",
        "            loss.backward()\r\n",
        "            optimizer.step()\r\n",
        "        losses.append(float(loss))           #zapisuje wartosc funkcji kosztu\r\n",
        "        \r\n",
        "        \r\n",
        "        if epoch % 20 == 0:                   \r\n",
        "            epochs.append(epoch)             \r\n",
        "            train_acc.append(get_accuracy(model, train_loader))   #dokladnosc na zbiorze treningowym\r\n",
        "            valid_acc.append(get_accuracy(model, valid_loader))   #dokladnosc na zbiorze walidacyjnym\r\n",
        "            print(f'Epoch number: {epoch+1} | Loss value: {loss} | Train accuracy: {round(train_acc[-1],3)} | Valid accuracy: {round(valid_acc[-1],3)}')\r\n",
        "  \r\n",
        "    \r\n",
        "    #Wykresy\r\n",
        "    plt.title(\"Training Curve\")\r\n",
        "    plt.plot(losses, label=\"Train dataset\")\r\n",
        "    plt.xlabel(\"Epoch number\")\r\n",
        "    plt.ylabel(\"Loss value\")\r\n",
        "    plt.show()\r\n",
        "\r\n",
        "    plt.title(\"Training Curve\")\r\n",
        "    plt.plot(epochs, train_acc, label=\"Train dataset\")\r\n",
        "    plt.plot(epochs, valid_acc, label=\"Validation dataset\")\r\n",
        "    plt.xlabel(\"Epoch number\")\r\n",
        "    plt.ylabel(\"Accuracy\")\r\n",
        "    plt.legend(loc='best')\r\n",
        "    plt.show()"
      ],
      "execution_count": null,
      "outputs": []
    },
    {
      "cell_type": "code",
      "metadata": {
        "id": "3SmwowhBDDLc"
      },
      "source": [
        "#Funkcja wyznaczająca dokładność predykcji:\r\n",
        "def get_accuracy(model, data_loader):\r\n",
        "    correct, total = 0, 0  #ile ok, ile wszystkich\r\n",
        "    for tweets, labels in data_loader: #przechodzi dane\r\n",
        "        output = model(tweets)         #jak dziala model\r\n",
        "        pred = output.max(1, keepdim=True)[1]  #ktora kategoria\r\n",
        "        correct += pred.eq(labels.view_as(pred)).sum().item()\r\n",
        "        total += labels.shape[0]\r\n",
        "    return correct / total"
      ],
      "execution_count": null,
      "outputs": []
    },
    {
      "cell_type": "code",
      "metadata": {
        "id": "v1LogwapDG5j"
      },
      "source": [
        "siec = nn.Sequential(nn.Linear(200, 50),  #przekształcenie liniowe R^200 ---> R^30\r\n",
        "                        nn.ReLU(),          #przekształcenie ReLU\r\n",
        "                        nn.Linear(50, 10),  #kolejne przekształcenie liniowe R^50--->R^10\r\n",
        "                        nn.ReLU(),          #przekształcenie ReLU\r\n",
        "                        nn.Linear(10, 2))   # przekształcenie liniowe, efekt: 2 liczby\r\n",
        "                        \r\n",
        "\r\n",
        "train_network(siec, train_loader, valid_loader, num_epochs=100, learning_rate=0.0001)\r\n",
        "\r\n",
        "print(\"Final test accuracy:\", get_accuracy(siec, test_loader)) #dokladnosc na zbiorze testowym"
      ],
      "execution_count": null,
      "outputs": []
    },
    {
      "cell_type": "code",
      "metadata": {
        "id": "Ylm2YQptHfKV"
      },
      "source": [
        ""
      ],
      "execution_count": null,
      "outputs": []
    }
  ]
}