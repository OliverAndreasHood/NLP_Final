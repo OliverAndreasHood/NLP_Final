{
  "nbformat": 4,
  "nbformat_minor": 0,
  "metadata": {
    "colab": {
      "name": "NLP_Final.ipynb",
      "provenance": [],
      "collapsed_sections": []
    },
    "kernelspec": {
      "name": "python3",
      "display_name": "Python 3"
    }
  },
  "cells": [
    {
      "cell_type": "code",
      "metadata": {
        "id": "pD-p4Oai0_5J"
      },
      "source": [
        "##########################################################################\r\n",
        "#                                                                        #\r\n",
        "#                             NLP-FINAL                                  #\r\n",
        "#       which is the last winter semester project of the NLP course,     #\r\n",
        "#         student history from 2020 and 2021 in seven python parts.      #\r\n",
        "#   Authors:                                                             #\r\n",
        "#       Piotr Szulc                                                      #\r\n",
        "#       Magdalena Lipka                                                  #\r\n",
        "#                                                                        #\r\n",
        "##########################################################################"
      ],
      "execution_count": 2,
      "outputs": []
    },
    {
      "cell_type": "markdown",
      "metadata": {
        "id": "wXwC-0bz1UF9"
      },
      "source": [
        "# Preprocesing\r\n",
        "Przygotowanie i oczyszczenie tekstu do dalszej analizy:\r\n",
        "- zaimportowanie potrzebnych do tej części bibliotek\r\n",
        "- odczytanie pliku csv \r\n",
        "> csv.reader()\r\n",
        "- implementacja ogranicznika parsowania\r\n",
        "> \"lim\"\r\n",
        "- odfiltrowanie html'owskich znaków końca lini\r\n",
        "> row[0] = row[0].replace(\"< br />< br /\", \" \")\r\n",
        "- tokenizacja recenzji\r\n",
        "> row[0] = word_tokenize(row[0])\r\n",
        "- zmniejszenie dużych liter\r\n",
        "> word.lower()\r\n",
        "- usunięcie stopwords'ów\r\n",
        "- usunięcie liczb i innych znaków\r\n",
        "> (word.isalpha())\r\n",
        "- podział recenzji ze względu na sentyment (0 - Negatywne, 1 -> Pozytywne)\r\n",
        "- zwrot listy krotek \r\n",
        "> ([słowa, recenzji,...], sentyment)\r\n"
      ]
    },
    {
      "cell_type": "code",
      "metadata": {
        "id": "mK_chqjs2FfI",
        "colab": {
          "base_uri": "https://localhost:8080/"
        },
        "outputId": "8e88abe5-063c-4190-e7a3-9d56d4b30858"
      },
      "source": [
        "import nltk\r\n",
        "nltk.download('stopwords')\r\n",
        "nltk.download('punkt')\r\n",
        "\r\n",
        "import csv\r\n",
        "from nltk import word_tokenize\r\n",
        "from nltk.corpus import stopwords\r\n",
        "import sys\r\n",
        "import time"
      ],
      "execution_count": 3,
      "outputs": [
        {
          "output_type": "stream",
          "text": [
            "[nltk_data] Downloading package stopwords to /root/nltk_data...\n",
            "[nltk_data]   Package stopwords is already up-to-date!\n",
            "[nltk_data] Downloading package punkt to /root/nltk_data...\n",
            "[nltk_data]   Package punkt is already up-to-date!\n"
          ],
          "name": "stdout"
        }
      ]
    },
    {
      "cell_type": "code",
      "metadata": {
        "id": "5vCESSAF1KWx"
      },
      "source": [
        "def load_csv2(file_path, l = [], lim = 0):\r\n",
        "    \"\"\"\r\n",
        "    file_path => type==str(), csv file with 2 columns separated with comma => (text, statement(0,1))\r\n",
        "    l => type==list() default l=[]\r\n",
        "    lim => type==int() default=0 (means parse whole file), number of lines to parse\r\n",
        "    \r\n",
        "    Loading function. Appending data to l as (row[0],row[1])\r\n",
        "    returns:\r\n",
        "        l = [[row[0], row[1]], ...]\r\n",
        "        statemen==0 => negative\r\n",
        "        len(pos) and len(neg)\r\n",
        "        alw => type==list(), filtered list of all words\r\n",
        "        \r\n",
        "    \"\"\"\r\n",
        "    #ładowanie pliku z podziałem na słowa i wykluczeniem stopwords, digit, punctuation\r\n",
        "    with open(file_path, \"r\", encoding='utf-8') as csv_file:\r\n",
        "        csv_reader = csv.reader(csv_file, delimiter=',')\r\n",
        "        sw =  set(stopwords.words(\"english\"))\r\n",
        "        line_count = 0\r\n",
        "        pos, neg, alw = [], [], []\r\n",
        "        percent = 0\r\n",
        "        \r\n",
        "        for row in csv_reader:\r\n",
        "            sys.stdout.write(f'\\rloading data' + f'\\t{percent:.1f}%\\t ({line_count})')\r\n",
        "            sys.stdout.flush()\r\n",
        "               \r\n",
        "            if line_count == 0:\r\n",
        "                line_count += 1\r\n",
        "            else:\r\n",
        "                row[0] = row[0].replace(\"<br /><br />\", \" \")\r\n",
        "                row[0] = word_tokenize(row[0])\r\n",
        "            \r\n",
        "                filtred = []\r\n",
        "                for word in row[0]:\r\n",
        "                    word = word.rstrip().lower()\r\n",
        "                    if word not in sw:\r\n",
        "                        if word.isalpha() == True:\r\n",
        "                            filtred.append(word)\r\n",
        "                            alw.append(word)\r\n",
        "                            \r\n",
        "                if int(row[1]) == 0:\r\n",
        "                     neg.append((filtred, int(row[1])))\r\n",
        "                else:\r\n",
        "                    pos.append((filtred, int(row[1])))\r\n",
        "                line_count += 1\r\n",
        "        \r\n",
        "        \r\n",
        "            # Ogranicznik parsowania\r\n",
        "            if lim == 0:\r\n",
        "                percent = (line_count)/50000*100\r\n",
        "            else:\r\n",
        "                percent = (line_count)/lim*100\r\n",
        "            \r\n",
        "            if lim != 0 and line_count == lim+1:\r\n",
        "                break\r\n",
        "            time.sleep(0.001)\r\n",
        "            \r\n",
        "        l = pos + neg\r\n",
        "        sys.stdout.write('\\rDone!       ')\r\n",
        "        time.sleep(1)\r\n",
        "    return l, len(pos), len(neg), alw"
      ],
      "execution_count": 4,
      "outputs": []
    },
    {
      "cell_type": "markdown",
      "metadata": {
        "id": "FT-e4aDU3u59"
      },
      "source": [
        "#Wykonanie części pierwszej - Parsowanie"
      ]
    },
    {
      "cell_type": "code",
      "metadata": {
        "colab": {
          "base_uri": "https://localhost:8080/"
        },
        "id": "AurI4aa13x4o",
        "outputId": "76a3fd71-9116-4dd3-dadf-4a5382ec1c20"
      },
      "source": [
        "############################## PART_A ####################################\r\n",
        "# tworzę liste krotek \"a\" i liste wszystkich słów \"allwords\"\r\n",
        "a, p_len, n_len, allwords = load_csv2(\"/content/drive/MyDrive/Colab Notebooks/movies_data.csv\", lim = 25000) #lim = 0 dla całości danych\r\n",
        "\r\n",
        "print(f\"\\n\\nNumber of reviews:\\nPositive: {p_len}\\nNegative: {n_len}\")\r\n",
        "if p_len == n_len: print(\"The data is \"+\"\\x1b[6;30;42m\"+\"balanced.\\n\"+'\\x1b[0m')\r\n",
        "else: print(\"The data is \"+'\\x1b[7;30;41m'+\"not balanced!\\n\"+\"\\x1b[0m\")"
      ],
      "execution_count": 5,
      "outputs": [
        {
          "output_type": "stream",
          "text": [
            "Done!       \n",
            "\n",
            "Number of reviews:\n",
            "Positive: 12527\n",
            "Negative: 12473\n",
            "The data is \u001b[7;30;41mnot balanced!\n",
            "\u001b[0m\n"
          ],
          "name": "stdout"
        }
      ]
    },
    {
      "cell_type": "markdown",
      "metadata": {
        "id": "dFbYzrZ66QaW"
      },
      "source": [
        "#2. Wstępna analiza tekstu\r\n",
        "- Ilość słów w recenzjach\r\n",
        "- Ilość unikatowych słów w recenzjach\r\n",
        "- rozkład 40 najpopularniejszych słów"
      ]
    },
    {
      "cell_type": "code",
      "metadata": {
        "id": "lpV9kEf36yGG"
      },
      "source": [
        "from nltk.probability import FreqDist\r\n",
        "import time"
      ],
      "execution_count": 6,
      "outputs": []
    },
    {
      "cell_type": "code",
      "metadata": {
        "id": "raKU6dtU6vXs"
      },
      "source": [
        "def word_counter2(alw, out=False, cl = 10):\r\n",
        "    \"\"\"\r\n",
        "    alw => type==list, list of words to count\r\n",
        "    out => type==bool default = False, to print out BoW, SoW and most_common_words plot.\r\n",
        "    cl => type==int default = 10, number of most_common_words to plot.\r\n",
        "    \r\n",
        "    if out:\r\n",
        "        printing BagOfWords lenght\r\n",
        "        printing SetOfWords lenght\r\n",
        "        ploting [cl] most_common words \r\n",
        "    returning BoW dict, type==probability.FreqDist \r\n",
        "    \"\"\"\r\n",
        "    if out: print(f'Number of all words:\\t{len(alw)}')\r\n",
        "    BoW = FreqDist(alw)\r\n",
        "    if out: print(f'Number of unique words:\\t{len(set(BoW))}\\n')\r\n",
        "    \r\n",
        "    time.sleep(1)\r\n",
        "    if out: BoW.plot(cl,title=f'Distribution of the {cl} most common words')\r\n",
        "    \r\n",
        "    return BoW"
      ],
      "execution_count": 7,
      "outputs": []
    },
    {
      "cell_type": "markdown",
      "metadata": {
        "id": "___T7GwN6rMd"
      },
      "source": [
        "#Wykonanie cześci drugiej"
      ]
    },
    {
      "cell_type": "code",
      "metadata": {
        "colab": {
          "base_uri": "https://localhost:8080/",
          "height": 389
        },
        "id": "PueZ7U3D6lOd",
        "outputId": "2bce5984-36f5-4e5e-b019-eb793ce95e27"
      },
      "source": [
        "############################## PART_B ####################################\r\n",
        "# tworzę BagOfWords i wypusuję wartosci Bow,Sow + plot 40 most_common\r\n",
        "bow = word_counter2(allwords, cl = 40, out=True)"
      ],
      "execution_count": 8,
      "outputs": [
        {
          "output_type": "stream",
          "text": [
            "Number of all words:\t2853169\n",
            "Number of unique words:\t73620\n",
            "\n"
          ],
          "name": "stdout"
        },
        {
          "output_type": "display_data",
          "data": {
            "image/png": "[encoded data removed]",
            "text/plain": [
              "<Figure size 432x288 with 1 Axes>"
            ]
          },
          "metadata": {
            "tags": [],
            "needs_background": "light"
          }
        }
      ]
    },
    {
      "cell_type": "markdown",
      "metadata": {
        "id": "_TPxIzZ67D8F"
      },
      "source": [
        "#3. Analiza danych algorytmami klasycznymi\r\n",
        "- Zaimportowanie potrzebnych modułów i funkcji"
      ]
    },
    {
      "cell_type": "code",
      "metadata": {
        "id": "fjjDDYAj7kww"
      },
      "source": [
        "import numpy as np\r\n",
        "import random\r\n",
        "import nltk\r\n",
        "import sys\r\n",
        "import time\r\n",
        "from nltk.classify.scikitlearn import SklearnClassifier\r\n",
        "from sklearn.naive_bayes import MultinomialNB\r\n",
        "from sklearn.linear_model import LogisticRegression\r\n",
        "from sklearn.svm import LinearSVC\r\n",
        "from nltk.classify import ClassifierI\r\n",
        "from statistics import mode"
      ],
      "execution_count": 9,
      "outputs": []
    },
    {
      "cell_type": "code",
      "metadata": {
        "id": "1CZRA5PU7sT5"
      },
      "source": [
        "def find_features(document, word_features):\r\n",
        "        words = set(document)\r\n",
        "        features = {}\r\n",
        "        for w in word_features:\r\n",
        "            features[w] = (w in words)\r\n",
        "        return features"
      ],
      "execution_count": 10,
      "outputs": []
    },
    {
      "cell_type": "markdown",
      "metadata": {
        "id": "kpGvNynP8V-9"
      },
      "source": [
        "- Funkcja analizująca tekst w oparciu o klasyczny algorytm Naive Bayes z wypisaniem słów najbardziej informatywnych"
      ]
    },
    {
      "cell_type": "code",
      "metadata": {
        "id": "ji4-yIw98hou"
      },
      "source": [
        "##########################1.Naive Bayes + most informative words ###############\r\n",
        "\r\n",
        "def NaivB1(revs, BoW, lim=3000, TrSet=0.8, outacc=False, mostif=False, mif=10):\r\n",
        "    \"\"\"\r\n",
        "    revs => type==list, parsed input data as [([words], statement), ([...],.), ...]\r\n",
        "    Bow => type==probability.FreqDist, BagOfWords representation of l, \r\n",
        "    lim => type==int. word_features cut-off \r\n",
        "    TrSet => type==float default 0.8, size of Trening_Set. Testing_set = 1 - TrSet    \r\n",
        "    outacc => type==bool default = False, print out Naive Bayes acc.\r\n",
        "    mostif => type==bool default False, print n most informative futures from Naive Bayes Classifier \r\n",
        "    mif => type==int default 10, number of most informative features to print, have to be greater than 0.\r\n",
        "    \"\"\"\r\n",
        "    start = time.time()\r\n",
        "    print('Classic Naive Bayes algorythm\\n')\r\n",
        "   \r\n",
        "    sys.stdout.write(\"\\r=> Preparing.. \") #Lista branych pod uwagę słów o wielkości [:lim]\r\n",
        "    wf = list(BoW.keys())[:lim] \r\n",
        "    random.shuffle(revs)\r\n",
        "    TrSet = int(len(revs)*TrSet)  \r\n",
        "    featuresets = [(find_features(rev, wf),category) for (rev,category) in revs]\r\n",
        "    \r\n",
        "    training_set = featuresets[:TrSet]   \r\n",
        "    testing_set = featuresets[TrSet:]\r\n",
        "    sys.stdout.write(f\"\\rPreparing time {time.time()-start:.2f} s\\n\")\r\n",
        "    \r\n",
        "    start = time.time()\r\n",
        "    sys.stdout.write(\"\\r=> Training..  \") #Trenowanie modelu\r\n",
        "    NB_classifier = nltk.NaiveBayesClassifier.train(training_set)\r\n",
        "    sys.stdout.write(f\"\\rTraining time  {time.time()-start:.2f} s\\n\")\r\n",
        "    \r\n",
        "    start = time.time()\r\n",
        "    sys.stdout.write(\"\\r=> Testing..  \")  #Testowanie modelu\r\n",
        "    acc = (nltk.classify.accuracy(NB_classifier,testing_set))*100\r\n",
        "    sys.stdout.write(f\"\\rTesting time  {time.time()-start:.2f} s\\n\")\r\n",
        "    time.sleep(1)    \r\n",
        "    \r\n",
        "    if outacc: print(f\"\\n> The accuracy of the MNB Naive Bayes method to the classification problem on the test set is: {acc:.2f}\") \r\n",
        "    time.sleep(2)    \r\n",
        "    if mostif and mif>0: NB_classifier.show_most_informative_features(mif)\r\n",
        "    return "
      ],
      "execution_count": 11,
      "outputs": []
    },
    {
      "cell_type": "code",
      "metadata": {
        "colab": {
          "base_uri": "https://localhost:8080/"
        },
        "id": "A_hwR2f39zAn",
        "outputId": "02f89ad0-850a-42da-89db-b1719b406d1b"
      },
      "source": [
        "############################## PART_C ####################################\r\n",
        "# odpalamy klasyczy Naive Bayes do wypisania najważniejszych słów\r\n",
        "NaivB1(a, bow, outacc=True, mostif=True, mif=15)"
      ],
      "execution_count": 12,
      "outputs": [
        {
          "output_type": "stream",
          "text": [
            "Classic Naive Bayes algorythm\n",
            "\n",
            "Preparing time 9.91 s\n",
            "Training time  80.21 s\n",
            "Testing time  40.48 s\n",
            "\n",
            "> The accuracy of the MNB Naive Bayes method to the classification problem on the test set is: 84.18\n",
            "Most Informative Features\n",
            "                enhances = True                1 : 0      =     16.2 : 1.0\n",
            "                   waste = True                0 : 1      =     13.0 : 1.0\n",
            "                  lamest = True                0 : 1      =     11.8 : 1.0\n",
            "                flawless = True                1 : 0      =     11.7 : 1.0\n",
            "          excruciatingly = True                0 : 1      =     11.5 : 1.0\n",
            "                  leaden = True                0 : 1      =     11.1 : 1.0\n",
            "                genitals = True                0 : 1      =     10.4 : 1.0\n",
            "                    nada = True                0 : 1      =      9.8 : 1.0\n",
            "                   worst = True                0 : 1      =      9.7 : 1.0\n",
            "               laughable = True                0 : 1      =      9.6 : 1.0\n",
            "                   awful = True                0 : 1      =      9.6 : 1.0\n",
            "                  tedium = True                0 : 1      =      9.5 : 1.0\n",
            "             wonderfully = True                1 : 0      =      9.0 : 1.0\n",
            "                adelaide = True                1 : 0      =      8.9 : 1.0\n",
            "                  lolita = True                0 : 1      =      8.4 : 1.0\n"
          ],
          "name": "stdout"
        }
      ]
    },
    {
      "cell_type": "markdown",
      "metadata": {
        "id": "Dv6QyNmk_P8E"
      },
      "source": [
        "- Zdefiniowanie funkcji potrzebnych do powtórzeń tworzenia modelów opartych o różne klasyfikatory"
      ]
    },
    {
      "cell_type": "code",
      "metadata": {
        "id": "opGelD1x_LIz"
      },
      "source": [
        "##########################1A. Naive Bayes #####################################\r\n",
        "\r\n",
        "def NaivB2(training_set, testing_set):\r\n",
        "      \r\n",
        "    MNB_classifier = SklearnClassifier(MultinomialNB())\r\n",
        "    MNB_classifier.train(training_set)\r\n",
        "    acc = (nltk.classify.accuracy(MNB_classifier,testing_set))*100\r\n",
        "        \r\n",
        "    return acc\r\n",
        "\r\n",
        "##########################2. Logistic Regression ##############################\r\n",
        "\r\n",
        "def LogRegr(training_set, testing_set):\r\n",
        "    \r\n",
        "    LogisticRegression_classifier = SklearnClassifier(LogisticRegression(solver='lbfgs', max_iter=300))\r\n",
        "    LogisticRegression_classifier.train(training_set)\r\n",
        "    acc = (nltk.classify.accuracy(LogisticRegression_classifier, testing_set))*100\r\n",
        "\r\n",
        "    return acc\r\n",
        "\r\n",
        "##########################3. SVM ##############################################\r\n",
        "\r\n",
        "def SvmF(training_set, testing_set):\r\n",
        "     \r\n",
        "    LinearSVC_classifier = SklearnClassifier(LinearSVC(max_iter=2000))\r\n",
        "    LinearSVC_classifier.train(training_set)\r\n",
        "    acc = (nltk.classify.accuracy(LinearSVC_classifier, testing_set))*100\r\n",
        "        \r\n",
        "    return acc\r\n",
        "\r\n",
        "##########################4. Aggregated all above #############################\r\n",
        "\r\n",
        "class AggClassifier(ClassifierI):\r\n",
        "    def __init__(self, *classifiers):\r\n",
        "        self._classifiers = classifiers\r\n",
        "\r\n",
        "    def classify(self, features):\r\n",
        "        votes = []\r\n",
        "        for c in self._classifiers:\r\n",
        "            v = c.classify(features)\r\n",
        "            votes.append(v)\r\n",
        "        return mode(votes)\r\n",
        "\r\n",
        "    def confidence(self, features):\r\n",
        "        votes = []\r\n",
        "        for c in self._classifiers:\r\n",
        "            v = c.classify(features)\r\n",
        "            votes.append(v)\r\n",
        "\r\n",
        "        choice_votes = votes.count(mode(votes))\r\n",
        "        conf = choice_votes / len(votes)\r\n",
        "        return conf\r\n",
        "\r\n",
        "def AllF(training_set, testing_set):\r\n",
        "\r\n",
        "    MNB_classifier = SklearnClassifier(MultinomialNB())\r\n",
        "    MNB_classifier.train(training_set)\r\n",
        "\r\n",
        "    LogisticRegression_classifier = SklearnClassifier(LogisticRegression(solver='lbfgs', max_iter=300))\r\n",
        "    LogisticRegression_classifier.train(training_set)\r\n",
        "\r\n",
        "    LinearSVC_classifier = SklearnClassifier(LinearSVC(max_iter=2000))\r\n",
        "    LinearSVC_classifier.train(training_set)\r\n",
        "    \r\n",
        "    agg_classifier = AggClassifier(MNB_classifier,\r\n",
        "                                   LogisticRegression_classifier,\r\n",
        "                                   LinearSVC_classifier)\r\n",
        "    \r\n",
        "    acc = (nltk.classify.accuracy(agg_classifier, testing_set))*100\r\n",
        "        \r\n",
        "    return acc"
      ],
      "execution_count": 13,
      "outputs": []
    },
    {
      "cell_type": "markdown",
      "metadata": {
        "id": "4l-irXrGAL3k"
      },
      "source": [
        "- Zdefiniowanie funkcji wykonującej zadane powtórzenia wypisująca również średnie dokładności każdej z metod"
      ]
    },
    {
      "cell_type": "code",
      "metadata": {
        "id": "Ql1Q4-AMAZuL"
      },
      "source": [
        "def Cmain_f(revs, BoW, lim=3000, TrSet=0.8, repeats=2, func=None, auto=False, ls_acc=True):\r\n",
        "    \"\"\"\r\n",
        "    revs => type==list, parsed input data as [([words], statement), ([...],.), ...]\r\n",
        "    Bow => type==probability.FreqDist, BagOfWords representation of l, \r\n",
        "    lim => type==int. word_features cut-off \r\n",
        "    TrSet => type==float default 0.8, size of Trening_Set. Testing_set = 1 - TrSet    \r\n",
        "    repeats => type==int default 0, repeats number of choosen method\r\n",
        "    func => type==str default None, type of algorythm to run automaticly [\"NB\",\"LR\",\"SVM\",\"ALL\"]\r\n",
        "    auto => type==bool default False, repeat all methods autmoaticly\r\n",
        "    ls_acc => type==bool default True, list acc of each one repeat.\r\n",
        "    \"\"\"\r\n",
        "    print(\"\\nC_main reading input config...\")\r\n",
        "    time.sleep(1)\r\n",
        "    \r\n",
        "    #końcowa tabela zbiorcza\r\n",
        "    accs = []\r\n",
        "    \r\n",
        "    if auto:\r\n",
        "        print(\"Proces will repeat automaticly for all methods.\")\r\n",
        "        func = \"AUTO\"\r\n",
        "        time.sleep(1)\r\n",
        "    else:\r\n",
        "        if func==None:\r\n",
        "            x = input(\"#Runing method repeats#\\nChoose one following methods:\\n1 => Naive Bayes\\n2 => Logistic Regresion\\n3 => Linear SVM\\n4 => Aggregated all above\\n> \")\r\n",
        "            methods = ['1','2','3','4']\r\n",
        "            if x in methods:\r\n",
        "                if x == \"1\": func = \"NB\"\r\n",
        "                elif x == \"2\": func = \"LR\"\r\n",
        "                elif x == \"3\": func = \"SVM\"\r\n",
        "                elif x == \"4\": func = \"ALL\"\r\n",
        "            else:\r\n",
        "                print(\"Wrong input!\")\r\n",
        "                return False    \r\n",
        "    \r\n",
        "    sys.stdout.write(\"\\rCreating Data Sets => Preparing.. \")\r\n",
        "    wf = list(BoW.keys())[:lim]\r\n",
        "    TrSet = int(len(revs)*TrSet)\r\n",
        "    random.shuffle(revs)\r\n",
        "    \r\n",
        "    sys.stdout.write(\"\\rCreating Data Sets => Indexing..  \")\r\n",
        "    featuresets = [(find_features(rev,wf),category) for (rev,category) in revs]\r\n",
        "    sys.stdout.write(\"\\rCreating Data Sets => Done         \\n\")\r\n",
        "    \r\n",
        "    if func == \"NB\" or func == \"AUTO\":\r\n",
        "        NBacc_list = []\r\n",
        "        i=repeats\r\n",
        "        print(f'\\nRuning MNB Naive Bayes {repeats} repeats..')\r\n",
        "        while i:\r\n",
        "            random.shuffle(featuresets)\r\n",
        "            training_set = featuresets[:TrSet]\r\n",
        "            testing_set = featuresets[TrSet:]\r\n",
        "            sys.stdout.write(f\"\\rRun No.{repeats-i+1} \")\r\n",
        "            \r\n",
        "            NBacc_list.append(NaivB2(training_set, testing_set))\r\n",
        "            if ls_acc: print(f'acc: {NBacc_list[repeats-i]:.2f}')\r\n",
        "            i-=1\r\n",
        "                \r\n",
        "        NBacc = np.mean(NBacc_list)\r\n",
        "        print(f'MNB Naive Bayes method mean accuracy in {repeats} repeats: {NBacc:.4f}\\n')\r\n",
        "        accs.append((\"NB\", NBacc, NBacc_list))\r\n",
        "        time.sleep(1)\r\n",
        "        \r\n",
        "    if func == \"LR\" or func == \"AUTO\":\r\n",
        "        LRacc_list = []\r\n",
        "        i=repeats\r\n",
        "        print(f\"\\nRuning Logistic Regression {repeats} repeats..\")\r\n",
        "        while i:\r\n",
        "            random.shuffle(featuresets)\r\n",
        "            training_set = featuresets[:TrSet]\r\n",
        "            testing_set = featuresets[TrSet:]\r\n",
        "            sys.stdout.write(f\"\\rRun No.{repeats-i+1} \")\r\n",
        "            \r\n",
        "            LRacc_list.append(LogRegr(training_set, testing_set))\r\n",
        "            if ls_acc: print(f'acc: {LRacc_list[repeats-i]:.2f}')\r\n",
        "            i-=1\r\n",
        "            \r\n",
        "        LRacc = np.mean(LRacc_list)\r\n",
        "        print(f'Logistic Regression method mean accuracy in {repeats} repeats: {LRacc:.4f}\\n')\r\n",
        "        accs.append((\"LR\", LRacc, LRacc_list))\r\n",
        "        time.sleep(1)\r\n",
        "\r\n",
        "    if func == \"SVM\" or func == \"AUTO\":\r\n",
        "        SVMacc_list = []\r\n",
        "        i=repeats\r\n",
        "        print(f\"\\nRuning Linear SVM {repeats} repeats..\")\r\n",
        "        while i:\r\n",
        "            random.shuffle(featuresets)\r\n",
        "            training_set = featuresets[:TrSet]\r\n",
        "            testing_set = featuresets[TrSet:]\r\n",
        "            sys.stdout.write(f\"\\rRun No.{repeats-i+1} \")\r\n",
        "            \r\n",
        "            SVMacc_list.append(SvmF(training_set, testing_set))\r\n",
        "            if ls_acc: print(f'acc: {SVMacc_list[repeats-i]:.2f}')\r\n",
        "            i-=1\r\n",
        "\r\n",
        "        SVMacc = np.mean(SVMacc_list)\r\n",
        "        print(f'Linear SVM method mean accuracy in {repeats} repeats: {SVMacc:.4f}\\n')\r\n",
        "        accs.append((\"SVM\", SVMacc, SVMacc_list))\r\n",
        "        time.sleep(1)\r\n",
        "\r\n",
        "    if func == \"ALL\" or func == \"AUTO\":\r\n",
        "        ALLacc_list = []\r\n",
        "        i=repeats\r\n",
        "        print(f\"\\nRuning Aggregated classifier {repeats} repeats..\")\r\n",
        "        while i:\r\n",
        "            random.shuffle(featuresets)\r\n",
        "            training_set = featuresets[:TrSet]\r\n",
        "            testing_set = featuresets[TrSet:]\r\n",
        "            sys.stdout.write(f\"\\rRun No.{repeats-i+1} \")\r\n",
        "            \r\n",
        "            ALLacc_list.append(AllF(training_set, testing_set))\r\n",
        "            if ls_acc: print(f'acc: {ALLacc_list[repeats-i]:.2f}')\r\n",
        "            i-=1\r\n",
        "\r\n",
        "        ALLacc = np.mean(ALLacc_list)\r\n",
        "        print(f'Aggregated classifier method mean accuracy in {repeats} repeats: {ALLacc:.4f}\\n')\r\n",
        "        accs.append((\"ALL\", ALLacc, ALLacc_list))\r\n",
        "        time.sleep(1)\r\n",
        "\r\n",
        "\r\n",
        "\r\n",
        "    return accs"
      ],
      "execution_count": 14,
      "outputs": []
    },
    {
      "cell_type": "code",
      "metadata": {
        "colab": {
          "base_uri": "https://localhost:8080/"
        },
        "id": "vjnXoh_OAq7j",
        "outputId": "ed703b6c-fef2-4dc2-d23c-0a26d88bfd24"
      },
      "source": [
        "# odpalam serię wszystkich metod po 10 powtórzeń, zwraca listę wyników.\r\n",
        "accs = Cmain_f(a, bow, repeats=10, auto=True)\r\n",
        "\r\n",
        "# Błąd dotyczący ilości powtórzeń w SVM przy ponownym przejściu nie powinien się pojawić."
      ],
      "execution_count": 15,
      "outputs": [
        {
          "output_type": "stream",
          "text": [
            "\n",
            "C_main reading input config...\n",
            "Proces will repeat automaticly for all methods.\n",
            "Creating Data Sets => Done         \n",
            "\n",
            "Runing MNB Naive Bayes 10 repeats..\n",
            "Run No.1 acc: 83.98\n",
            "Run No.2 acc: 84.06\n",
            "Run No.3 acc: 82.92\n",
            "Run No.4 acc: 83.42\n",
            "Run No.5 acc: 83.94\n",
            "Run No.6 acc: 84.40\n",
            "Run No.7 acc: 84.46\n",
            "Run No.8 acc: 84.16\n",
            "Run No.9 acc: 84.16\n",
            "Run No.10 acc: 84.96\n",
            "MNB Naive Bayes method mean accuracy in 10 repeats: 84.0460\n",
            "\n",
            "\n",
            "Runing Logistic Regression 10 repeats..\n",
            "Run No.1 acc: 85.44\n",
            "Run No.2 acc: 84.72\n",
            "Run No.3 acc: 85.22\n",
            "Run No.4 acc: 85.44\n",
            "Run No.5 acc: 85.24\n",
            "Run No.6 acc: 84.24\n",
            "Run No.7 acc: 84.44\n",
            "Run No.8 acc: 85.10\n",
            "Run No.9 acc: 84.86\n",
            "Run No.10 acc: 84.84\n",
            "Logistic Regression method mean accuracy in 10 repeats: 84.9540\n",
            "\n",
            "\n",
            "Runing Linear SVM 10 repeats..\n",
            "Run No.1 "
          ],
          "name": "stdout"
        },
        {
          "output_type": "stream",
          "text": [
            "/usr/local/lib/python3.6/dist-packages/sklearn/svm/_base.py:947: ConvergenceWarning: Liblinear failed to converge, increase the number of iterations.\n",
            "  \"the number of iterations.\", ConvergenceWarning)\n"
          ],
          "name": "stderr"
        },
        {
          "output_type": "stream",
          "text": [
            "acc: 82.76\n",
            "Run No.2 acc: 83.82\n",
            "Run No.3 acc: 84.40\n",
            "Run No.4 acc: 83.72\n",
            "Run No.5 acc: 84.02\n",
            "Run No.6 acc: 84.60\n",
            "Run No.7 acc: 84.28\n",
            "Run No.8 acc: 83.88\n",
            "Run No.9 acc: 83.82\n",
            "Run No.10 acc: 84.00\n",
            "Linear SVM method mean accuracy in 10 repeats: 83.9300\n",
            "\n",
            "\n",
            "Runing Aggregated classifier 10 repeats..\n",
            "Run No.1 "
          ],
          "name": "stdout"
        },
        {
          "output_type": "stream",
          "text": [
            "/usr/local/lib/python3.6/dist-packages/sklearn/svm/_base.py:947: ConvergenceWarning: Liblinear failed to converge, increase the number of iterations.\n",
            "  \"the number of iterations.\", ConvergenceWarning)\n"
          ],
          "name": "stderr"
        },
        {
          "output_type": "stream",
          "text": [
            "acc: 84.74\n",
            "\rRun No.2 "
          ],
          "name": "stdout"
        },
        {
          "output_type": "stream",
          "text": [
            "/usr/local/lib/python3.6/dist-packages/sklearn/svm/_base.py:947: ConvergenceWarning: Liblinear failed to converge, increase the number of iterations.\n",
            "  \"the number of iterations.\", ConvergenceWarning)\n"
          ],
          "name": "stderr"
        },
        {
          "output_type": "stream",
          "text": [
            "acc: 85.72\n",
            "\rRun No.3 "
          ],
          "name": "stdout"
        },
        {
          "output_type": "stream",
          "text": [
            "/usr/local/lib/python3.6/dist-packages/sklearn/svm/_base.py:947: ConvergenceWarning: Liblinear failed to converge, increase the number of iterations.\n",
            "  \"the number of iterations.\", ConvergenceWarning)\n"
          ],
          "name": "stderr"
        },
        {
          "output_type": "stream",
          "text": [
            "acc: 84.68\n",
            "\rRun No.4 "
          ],
          "name": "stdout"
        },
        {
          "output_type": "stream",
          "text": [
            "/usr/local/lib/python3.6/dist-packages/sklearn/svm/_base.py:947: ConvergenceWarning: Liblinear failed to converge, increase the number of iterations.\n",
            "  \"the number of iterations.\", ConvergenceWarning)\n"
          ],
          "name": "stderr"
        },
        {
          "output_type": "stream",
          "text": [
            "acc: 85.26\n",
            "\rRun No.5 "
          ],
          "name": "stdout"
        },
        {
          "output_type": "stream",
          "text": [
            "/usr/local/lib/python3.6/dist-packages/sklearn/svm/_base.py:947: ConvergenceWarning: Liblinear failed to converge, increase the number of iterations.\n",
            "  \"the number of iterations.\", ConvergenceWarning)\n"
          ],
          "name": "stderr"
        },
        {
          "output_type": "stream",
          "text": [
            "acc: 85.22\n",
            "\rRun No.6 "
          ],
          "name": "stdout"
        },
        {
          "output_type": "stream",
          "text": [
            "/usr/local/lib/python3.6/dist-packages/sklearn/svm/_base.py:947: ConvergenceWarning: Liblinear failed to converge, increase the number of iterations.\n",
            "  \"the number of iterations.\", ConvergenceWarning)\n"
          ],
          "name": "stderr"
        },
        {
          "output_type": "stream",
          "text": [
            "acc: 84.74\n",
            "\rRun No.7 "
          ],
          "name": "stdout"
        },
        {
          "output_type": "stream",
          "text": [
            "/usr/local/lib/python3.6/dist-packages/sklearn/svm/_base.py:947: ConvergenceWarning: Liblinear failed to converge, increase the number of iterations.\n",
            "  \"the number of iterations.\", ConvergenceWarning)\n"
          ],
          "name": "stderr"
        },
        {
          "output_type": "stream",
          "text": [
            "acc: 84.52\n",
            "\rRun No.8 "
          ],
          "name": "stdout"
        },
        {
          "output_type": "stream",
          "text": [
            "/usr/local/lib/python3.6/dist-packages/sklearn/svm/_base.py:947: ConvergenceWarning: Liblinear failed to converge, increase the number of iterations.\n",
            "  \"the number of iterations.\", ConvergenceWarning)\n"
          ],
          "name": "stderr"
        },
        {
          "output_type": "stream",
          "text": [
            "acc: 85.46\n",
            "\rRun No.9 "
          ],
          "name": "stdout"
        },
        {
          "output_type": "stream",
          "text": [
            "/usr/local/lib/python3.6/dist-packages/sklearn/svm/_base.py:947: ConvergenceWarning: Liblinear failed to converge, increase the number of iterations.\n",
            "  \"the number of iterations.\", ConvergenceWarning)\n"
          ],
          "name": "stderr"
        },
        {
          "output_type": "stream",
          "text": [
            "acc: 84.02\n",
            "\rRun No.10 "
          ],
          "name": "stdout"
        },
        {
          "output_type": "stream",
          "text": [
            "/usr/local/lib/python3.6/dist-packages/sklearn/svm/_base.py:947: ConvergenceWarning: Liblinear failed to converge, increase the number of iterations.\n",
            "  \"the number of iterations.\", ConvergenceWarning)\n"
          ],
          "name": "stderr"
        },
        {
          "output_type": "stream",
          "text": [
            "acc: 85.24\n",
            "Aggregated classifier method mean accuracy in 10 repeats: 84.9600\n",
            "\n"
          ],
          "name": "stdout"
        }
      ]
    },
    {
      "cell_type": "markdown",
      "metadata": {
        "id": "G5e375zdBueY"
      },
      "source": [
        "#4. Analiza oparta o sieci neuronowe\r\n"
      ]
    },
    {
      "cell_type": "code",
      "metadata": {
        "id": "_vCEHi3BB5S_"
      },
      "source": [
        "import torch\r\n",
        "import torch.nn as nn\r\n",
        "import torch.nn.functional as F\r\n",
        "import torch.autograd as autograd\r\n",
        "import torchtext\r\n",
        "import matplotlib.pyplot as plt"
      ],
      "execution_count": 16,
      "outputs": []
    },
    {
      "cell_type": "markdown",
      "metadata": {
        "id": "XBX03wdaB79l"
      },
      "source": [
        "1. Reprezentacja (Bag of Words) i jedno przekształcenie liniowe\r\n",
        "> Trening_set = 80%; Test_set = 20%\r\n"
      ]
    },
    {
      "cell_type": "code",
      "metadata": {
        "id": "9Q4ckApCCGtH"
      },
      "source": [
        "def bow_and_web(revs, TrSet=0.8, lr=0.1, n_iters=100):\r\n",
        "    \"\"\"\r\n",
        "    revs => type==list, parsed input data as [([words], statement), ([...],.), ...]\r\n",
        "    TrSet => type==float default 0.8, size of Trening_Set. Testing_set = 1 - TrSet \r\n",
        "    lr => type==float default 0.1, model learning rate\r\n",
        "    n_iters => type==int default 100, number of training iterations\r\n",
        "    \"\"\"\r\n",
        "    #pomocnicza funkcja1\r\n",
        "\r\n",
        "    def make_bow_vector(sentence, word_to_ix):\r\n",
        "        vec = torch.zeros(len(word_to_ix))\r\n",
        "        for word in sentence:\r\n",
        "            vec[word_to_ix[word]] += 1\r\n",
        "            return vec.view(1, -1)\r\n",
        "        \r\n",
        "    #pomocnicza funkcja2\r\n",
        "\r\n",
        "    def make_target(label, label_to_ix):\r\n",
        "        return torch.LongTensor([label_to_ix[label]])\r\n",
        "    \r\n",
        "    #Model\r\n",
        "\r\n",
        "    class BoWClassifier(nn.Module):  \r\n",
        "        def __init__(self, num_labels, vocab_size):\r\n",
        "            super().__init__()\r\n",
        "            self.linear = nn.Linear(vocab_size, num_labels)\r\n",
        "        \r\n",
        "        def forward(self, bow_vec):\r\n",
        "            return F.log_softmax(self.linear(bow_vec), dim = 1)\r\n",
        "\r\n",
        "    print('Neural BoW analyse\\n')\r\n",
        "    label_to_ix = {0: 0, 1: 1 }\r\n",
        "    word_to_ix = {} #zbior slow z indywidualna liczba\r\n",
        "\r\n",
        "    sys.stdout.write('\\r=> Preparing..')\r\n",
        "    start = time.time()\r\n",
        "    TrSet = int(len(revs)*TrSet)\r\n",
        "    training_set=revs[:TrSet]\r\n",
        "    test_set=revs[TrSet:]\r\n",
        "    sys.stdout.write(f\"\\rPreparing time {time.time()-start:.2f} s\\n\")\r\n",
        "\r\n",
        "\r\n",
        "    sys.stdout.write('\\r=> Indexing..')\r\n",
        "    start = time.time()\r\n",
        "    for sent, _ in training_set + test_set:\r\n",
        "        for word in sent:\r\n",
        "            if word not in word_to_ix:\r\n",
        "                word_to_ix[word] = len(word_to_ix)\r\n",
        "    sys.stdout.write(f\"\\rIndexing time {time.time()-start:.2f} s\\n\")\r\n",
        "\r\n",
        "    VOCAB_SIZE = len(word_to_ix)  # ile wszysktich slow\r\n",
        "    NUM_LABELS = len(label_to_ix) # ile kategorii\r\n",
        "    print(f\"Vocabulary Size: {VOCAB_SIZE}\")\r\n",
        "    print(f\"Category amount: {NUM_LABELS}\\n\")\r\n",
        "\r\n",
        "    #parametry modelu, funkcji kosztu i optymalizator\r\n",
        "    model = BoWClassifier(NUM_LABELS, VOCAB_SIZE)\r\n",
        "    loss_function = nn.NLLLoss()\r\n",
        "    optimizer = torch.optim.SGD(model.parameters(), lr)\r\n",
        "\r\n",
        "    print(f'Model parameters:\\n> Training_set size: {len(training_set)} | Testing_set size: {len(test_set)}\\n> Learning Rate: {lr} | Iterations: {n_iters}')\r\n",
        "\r\n",
        "    print('\\nTraining BoWClassifier model..')\r\n",
        "    start = time.time()\r\n",
        "    for epoch in range(n_iters):\r\n",
        "        for instance, label in training_set:\r\n",
        "            sys.stdout.write(f'\\rEpoch number: {epoch+1}/{n_iters}')\r\n",
        "            bow_vec = autograd.Variable(make_bow_vector(instance, word_to_ix))\r\n",
        "            target = autograd.Variable(make_target(label, label_to_ix))\r\n",
        "    \r\n",
        "            #forward\r\n",
        "            log_probs = model(bow_vec)\r\n",
        "            loss = loss_function(log_probs, target)\r\n",
        "        \r\n",
        "            #backward\r\n",
        "            loss.backward()\r\n",
        "            optimizer.step()\r\n",
        "        \r\n",
        "            #zerujemy gradient\r\n",
        "            optimizer.zero_grad()\r\n",
        "\r\n",
        "        sys.stdout.write(f'\\rEpoch number: {epoch+1} \\t| Loss value: {loss:.4f}\\n')\r\n",
        "    sys.stdout.write(f'\\r> Done ({time.time()-start:.2f} s)                  \\n')\r\n",
        "\r\n",
        "    for instance, label in test_set:\r\n",
        "        bow_vec = autograd.Variable(make_bow_vector(instance, word_to_ix))\r\n",
        "        log_probs = model(bow_vec)\r\n",
        "\r\n",
        "    return (list(model.parameters()))"
      ],
      "execution_count": 34,
      "outputs": []
    },
    {
      "cell_type": "code",
      "metadata": {
        "id": "1_CwKfJvKF15",
        "colab": {
          "base_uri": "https://localhost:8080/"
        },
        "outputId": "2ea0f6ea-e7bd-4f09-e8d4-d2acddb35902"
      },
      "source": [
        "#odpalam przejście analizy opartej o BoW (1xLinear)\r\n",
        "BoWmodel_params = bow_and_web(a, TrSet=0.8, lr=0.1, n_iters=10)\r\n",
        "# Funkcja kosztu: NLLLoss\r\n",
        "print(f'\\n> {BoWmodel_params[0]}\\n> {BoWmodel_params[1]}')"
      ],
      "execution_count": 33,
      "outputs": [
        {
          "output_type": "stream",
          "text": [
            "Neural BoW analyse\n",
            "\n",
            "Preparing time 0.00 s\n",
            "Indexing time 0.49 s\n",
            "Vocabulary Size: 73620\n",
            "Category amount: 2\n",
            "\n",
            "Model parameters:\n",
            "> Training_set size: 20000 | Testing_set size: 5000\n",
            "> Learning Rate: 0.1 | Iterations: 10\n",
            "\n",
            "Training BoWClassifier model..\n",
            "Epoch number: 1 \t| Loss value: 0.8815\n",
            "Epoch number: 2 \t| Loss value: 0.9209\n",
            "Epoch number: 3 \t| Loss value: 0.9453\n",
            "Epoch number: 4 \t| Loss value: 0.9625\n",
            "Epoch number: 5 \t| Loss value: 0.9751\n",
            "Epoch number: 6 \t| Loss value: 0.9846\n",
            "Epoch number: 7 \t| Loss value: 0.9919\n",
            "Epoch number: 8 \t| Loss value: 0.9976\n",
            "Epoch number: 9 \t| Loss value: 1.0021\n",
            "Epoch number: 10 \t| Loss value: 1.0057\n",
            "> Done (213.60 s)                  \n",
            "\n",
            "> Parameter containing:\n",
            "tensor([[ 0.0144, -0.2065, -0.0030,  ...,  0.0020,  0.0022,  0.0013],\n",
            "        [-0.0120,  0.2083,  0.0070,  ..., -0.0028, -0.0006,  0.0021]],\n",
            "       requires_grad=True)\n",
            "> Parameter containing:\n",
            "tensor([-0.1983,  0.1959], requires_grad=True)\n"
          ],
          "name": "stdout"
        }
      ]
    },
    {
      "cell_type": "markdown",
      "metadata": {
        "id": "EFI9KWvPCMOK"
      },
      "source": [
        "2. Embeddingi 200D {200 wymiarów }:\r\n",
        "> Każda recenzja jako suma/srednia aryt. jej embeddingów.\r\n",
        "\r\n",
        "Ładujemy embeddingi:"
      ]
    },
    {
      "cell_type": "code",
      "metadata": {
        "id": "r00BmuSsC6nv",
        "colab": {
          "base_uri": "https://localhost:8080/"
        },
        "outputId": "fe9ccb16-ee7d-40bd-9652-de1f1177cfc8"
      },
      "source": [
        "glove = torchtext.vocab.GloVe(name=\"6B\", dim=200)"
      ],
      "execution_count": 19,
      "outputs": [
        {
          "output_type": "stream",
          "text": [
            ".vector_cache/glove.6B.zip: 862MB [06:32, 2.20MB/s]                           \n",
            "100%|█████████▉| 399847/400000 [00:33<00:00, 11453.45it/s]"
          ],
          "name": "stderr"
        }
      ]
    },
    {
      "cell_type": "markdown",
      "metadata": {
        "id": "PauJ21o5nLqq"
      },
      "source": [
        "Definiujemy funkcję zwracającą listy sum wektorów dla danych recenzji podzielone na trzy zestawy: \r\n",
        "*   Treningowy[0.70]\r\n",
        "*   Walidacyjny[0.15]\r\n",
        "*   Testowy[0.15]\r\n",
        "\r\n"
      ]
    },
    {
      "cell_type": "code",
      "metadata": {
        "id": "3SmwowhBDDLc"
      },
      "source": [
        "#Funkcja wyznaczająca dokładność predykcji:\r\n",
        "def get_accuracy(model, data_loader):\r\n",
        "    correct, total = 0, 0  \r\n",
        "    for revs, labels in data_loader: \r\n",
        "        output = model(revs)         \r\n",
        "        pred = output.max(1, keepdim=True)[1]  \r\n",
        "        correct += pred.eq(labels.view_as(pred)).sum().item()\r\n",
        "        total += labels.shape[0]\r\n",
        "    return correct / total"
      ],
      "execution_count": 20,
      "outputs": []
    },
    {
      "cell_type": "code",
      "metadata": {
        "id": "z4zMiHfLC-a4"
      },
      "source": [
        "def get_vectors(glove_vector, revs, batch_size=200, shuffle=True):\r\n",
        "    sys.stdout.write('\\rGetting vectors loaders..')\r\n",
        "    train, valid, test = [], [], [] #tworze trzy listy na dane train, valid i test\r\n",
        "    for i, line in enumerate(revs): #przechodze dane \r\n",
        "        rev = line[0]                 \r\n",
        "    \r\n",
        "        rev_emb = sum(glove_vector[w] for w in rev) \r\n",
        "        label = torch.tensor(int(line[1] == 1)).long() \r\n",
        "            \r\n",
        "        #dzielimy dane na trzy kategorie\r\n",
        "        if i % len(revs) < int(0.7*len(revs)):     \r\n",
        "            train.append((rev_emb, label)) \r\n",
        "        elif i == int(0.7*len(revs)):\r\n",
        "            valid.append((rev_emb, label))\r\n",
        "        elif i > int(0.7*len(revs)) and i < int(0.85*len(revs)):\r\n",
        "            valid.append((rev_emb, label))\r\n",
        "        else:            \r\n",
        "            test.append((rev_emb, label)) \r\n",
        "        \r\n",
        "    #za kazdym razem będzie bral 200 rekordow (przy trenowaniu) i co epoke tasujemy (shuffle = True)\r\n",
        "    train_loader = torch.utils.data.DataLoader(train, batch_size, shuffle)\r\n",
        "    valid_loader = torch.utils.data.DataLoader(valid, batch_size, shuffle) \r\n",
        "    test_loader = torch.utils.data.DataLoader(test, batch_size, shuffle)\r\n",
        "    \r\n",
        "    sys.stdout.write('\\rGetting vectors loaders => Done\\n ')\r\n",
        "    return train_loader, valid_loader, test_loader"
      ],
      "execution_count": 21,
      "outputs": []
    },
    {
      "cell_type": "code",
      "metadata": {
        "id": "RPLpBCm9DA-7"
      },
      "source": [
        "def train_network(model, train_loader, valid_loader, test_loader, num_epochs=5, learning_rate=1e-5, pltout=True):\r\n",
        "    print('Neural Glove analyse\\n')\r\n",
        "    criterion = nn.CrossEntropyLoss()\r\n",
        "    optimizer = torch.optim.Adam(model.parameters(), lr=learning_rate) \r\n",
        "    losses, train_acc, valid_acc, epochs = [], [], [], []\r\n",
        "    \r\n",
        "    print(f'Model parameters:\\n> Training_set size: {len(train_loader.dataset)} | Valid_set size: {len(valid_loader.dataset)} | Testing_set size: {len(test_loader.dataset)}\\\r\n",
        "\\n> Learning Rate: {learning_rate} | Iterations: {num_epochs}\\n')\r\n",
        "    time.sleep(1)\r\n",
        "    start = time.time()\r\n",
        "    for epoch in range(num_epochs):\r\n",
        "        for revs, labels in train_loader:\r\n",
        "            sys.stdout.write(f'\\rEpoch number: {epoch+1}/{num_epochs}')\r\n",
        "            optimizer.zero_grad()\r\n",
        "            pred = model(revs)         \r\n",
        "            loss = criterion(pred, labels)\r\n",
        "            loss.backward()\r\n",
        "            optimizer.step()\r\n",
        "        losses.append(float(loss))\r\n",
        "        \r\n",
        "        \r\n",
        "        if epoch % int(num_epochs/5) == 0:                   \r\n",
        "            epochs.append(epoch)             \r\n",
        "            train_acc.append(get_accuracy(model, train_loader))\r\n",
        "            valid_acc.append(get_accuracy(model, valid_loader))\r\n",
        "            sys.stdout.write(f'\\rEpoch number: {epoch+1}      | Loss value: {loss:.4f} | Train accuracy: {round(train_acc[-1],3)} | Valid accuracy: {round(valid_acc[-1],3)}\\n')\r\n",
        "    sys.stdout.write(f'\\r> Done ({time.time()-start:.2f} s)                                                                                                   \\n')\r\n",
        "    #Wykresy\r\n",
        "    if pltout:\r\n",
        "      plt.title(\"Training Curve\")\r\n",
        "      plt.plot(losses, label=\"Train dataset\")\r\n",
        "      plt.xlabel(\"Epoch number\")\r\n",
        "      plt.ylabel(\"Loss value\")\r\n",
        "      plt.show()\r\n",
        "\r\n",
        "      plt.title(\"Training Curve\")\r\n",
        "      plt.plot(epochs, train_acc, label=\"Train dataset\")\r\n",
        "      plt.plot(epochs, valid_acc, label=\"Validation dataset\")\r\n",
        "      plt.xlabel(\"Epoch number\")\r\n",
        "      plt.ylabel(\"Accuracy\")\r\n",
        "      plt.legend(loc='best')\r\n",
        "      plt.show()\r\n",
        "    else:\r\n",
        "      print(\"plotout == False\\n\")\r\n",
        "      \r\n",
        "    acc = get_accuracy(model, test_loader)\r\n",
        "    print(f\"Final test accuracy: {acc:.2f}\\n\")"
      ],
      "execution_count": 22,
      "outputs": []
    },
    {
      "cell_type": "code",
      "metadata": {
        "id": "yPhq-bcMTYsj",
        "colab": {
          "base_uri": "https://localhost:8080/"
        },
        "outputId": "20babb14-5195-4c47-e6e6-6319d7b25b9d"
      },
      "source": [
        "train_l, valid_l, test_l = get_vectors(glove, a, batch_size=312, shuffle=True)"
      ],
      "execution_count": 23,
      "outputs": [
        {
          "output_type": "stream",
          "text": [
            "\rGetting vectors loaders.."
          ],
          "name": "stdout"
        },
        {
          "output_type": "stream",
          "text": [
            "\r100%|█████████▉| 399847/400000 [00:50<00:00, 11453.45it/s]"
          ],
          "name": "stderr"
        },
        {
          "output_type": "stream",
          "text": [
            "\rGetting vectors loaders => Done\n",
            " "
          ],
          "name": "stdout"
        }
      ]
    },
    {
      "cell_type": "code",
      "metadata": {
        "id": "v1LogwapDG5j",
        "colab": {
          "base_uri": "https://localhost:8080/",
          "height": 811
        },
        "outputId": "38c84055-eb49-4d8f-f067-735e1ff6bd8f"
      },
      "source": [
        "#definiujemy strukturę modelu\r\n",
        "siec = nn.Sequential(nn.Linear(200, 20),\r\n",
        "                        nn.ReLU(),\r\n",
        "                        nn.Linear(20, 2))\r\n",
        "\r\n",
        "#odpalam przejcie analizy opartej o embeddingi GloVe 200D     \r\n",
        "train_network(siec, train_l, valid_l, test_l, \r\n",
        "              num_epochs=200, learning_rate=2e-5, pltout=True)\r\n",
        "\r\n",
        "# W zależności od ilości danych należałoby dostosować lr i epoch.\r\n",
        "# Wartość epoch=100 i lr=2e-4 ustalono dla 15 000 rekordów.\r\n",
        "# Wartość epoch=200 i lr=2e-5 ustalono dla 25 000 rekordów."
      ],
      "execution_count": 45,
      "outputs": [
        {
          "output_type": "stream",
          "text": [
            "Neural Glove analyse\n",
            "\n",
            "Model parameters:\n",
            "> Training_set size: 17500 | Valid_set size: 3750 | Testing_set size: 3750\n",
            "> Learning Rate: 2e-05 | Iterations: 200\n",
            "\n",
            "Epoch number: 1      | Loss value: 2.5851 | Train accuracy: 0.514 | Valid accuracy: 0.52\n",
            "Epoch number: 41      | Loss value: 0.5763 | Train accuracy: 0.772 | Valid accuracy: 0.781\n",
            "Epoch number: 81      | Loss value: 0.3403 | Train accuracy: 0.806 | Valid accuracy: 0.809\n",
            "Epoch number: 121      | Loss value: 0.6879 | Train accuracy: 0.817 | Valid accuracy: 0.817\n",
            "Epoch number: 161      | Loss value: 0.3383 | Train accuracy: 0.823 | Valid accuracy: 0.821\n",
            "> Done (34.24 s)                                                                                                   \n"
          ],
          "name": "stdout"
        },
        {
          "output_type": "display_data",
          "data": {
            "image/png": "[encoded data removed]",
            "text/plain": [
              "<Figure size 432x288 with 1 Axes>"
            ]
          },
          "metadata": {
            "tags": [],
            "needs_background": "light"
          }
        },
        {
          "output_type": "display_data",
          "data": {
            "image/png": "[encoded data removed]",
            "text/plain": [
              "<Figure size 432x288 with 1 Axes>"
            ]
          },
          "metadata": {
            "tags": [],
            "needs_background": "light"
          }
        },
        {
          "output_type": "stream",
          "text": [
            "Final test accuracy: 0.82\n",
            "\n"
          ],
          "name": "stdout"
        }
      ]
    },
    {
      "cell_type": "markdown",
      "metadata": {
        "id": "u-BgxdWut842"
      },
      "source": [
        "3. Embeddingi 200D + LSTM lub/oraz GRU"
      ]
    },
    {
      "cell_type": "markdown",
      "metadata": {
        "id": "In1Et1sYCH9Z"
      },
      "source": [
        "LSTM"
      ]
    },
    {
      "cell_type": "code",
      "metadata": {
        "id": "rXeXEHN-u6Zt"
      },
      "source": [
        "############################## LSTM ###############################\n",
        "\n",
        "class T_LSTM(nn.Module):\n",
        "    def __init__(self, input_size, hidden_size, num_classes):\n",
        "        super().__init__()\n",
        "        self.emb = nn.Embedding.from_pretrained(glove.vectors) #embeddingi\n",
        "        self.hidden_size = hidden_size\n",
        "        self.lstm = nn.LSTM(input_size, hidden_size, batch_first=True) #LSTM\n",
        "        self.fc = nn.Linear(hidden_size, num_classes)  #przeksztalcenie liniowe\n",
        "    \n",
        "    def forward(self, x):\n",
        "        x = self.emb(x)\n",
        "        h0 = torch.zeros(1, x.size(0), self.hidden_size) #początkowy  h0\n",
        "        c0 = torch.zeros(1, x.size(0), self.hidden_size) #początkowy c0\n",
        "        out, _ = self.lstm(x, (h0, c0))  #LSTM\n",
        "        out = self.fc(out[:, -1, :]) #liniowe przekształcenie ostatniego outputu\n",
        "        return out\n",
        "\n",
        "############################## TBatch ###############################\n",
        "\n",
        "class TBatcher:\n",
        "    def __init__(self, revs, batch_size=32, drop_last=False):\n",
        "        self.revs_by_length = {} \n",
        "        for words, label in revs:\n",
        "            wlen = words.shape[0] \n",
        "            \n",
        "            if wlen not in self.revs_by_length: \n",
        "                self.revs_by_length[wlen] = []  \n",
        "                \n",
        "            self.revs_by_length[wlen].append((words, label),) \n",
        " \n",
        "        \n",
        "        self.loaders = {wlen : torch.utils.data.DataLoader(revs, batch_size=batch_size, shuffle=True, drop_last=drop_last) for wlen, revs in self.revs_by_length.items()}\n",
        "    \n",
        "    \n",
        "    def __iter__(self): \n",
        "        iters = [iter(loader) for loader in self.loaders.values()] \n",
        "        while iters:\n",
        "            im = random.choice(iters) \n",
        "            try:\n",
        "                yield next(im)      \n",
        "            except StopIteration:\n",
        "                iters.remove(im)"
      ],
      "execution_count": 25,
      "outputs": []
    },
    {
      "cell_type": "code",
      "metadata": {
        "id": "khxRqClVPMOA"
      },
      "source": [
        "def get_indx(glove_vector, revs):\r\n",
        "    sys.stdout.write('\\rGetting index loaders..')    \r\n",
        "    train, valid, test = [], [], [] \r\n",
        "    for i, line in enumerate(revs): \r\n",
        "        rev = line[0]                 \r\n",
        "\r\n",
        "        idx = [glove_vector.stoi[w] for w in rev if w in glove_vector.stoi]\r\n",
        "        if not idx:\r\n",
        "          continue\r\n",
        "        idx = torch.tensor(idx)\r\n",
        "\r\n",
        "        label = torch.tensor(int(line[0] == 1)).long()\r\n",
        "\r\n",
        "        #dzielimy dane na trzy kategorie\r\n",
        "        if i % len(revs) < int(0.7*len(revs)):     \r\n",
        "            train.append((idx, label)) \r\n",
        "        elif i == int(0.7*len(revs)):\r\n",
        "            valid.append((idx, label))\r\n",
        "        elif i > int(0.7*len(revs)) and i < int(0.85*len(revs)):\r\n",
        "            valid.append((idx, label))\r\n",
        "        else:            \r\n",
        "            test.append((idx, label)) \r\n",
        "    \r\n",
        "    sys.stdout.write('\\rGetting index loaders => Done\\n')\r\n",
        "    return train, valid, test"
      ],
      "execution_count": 26,
      "outputs": []
    },
    {
      "cell_type": "code",
      "metadata": {
        "id": "9yWr59JtrAL2"
      },
      "source": [
        "############################## TRAIN ###############################\r\n",
        "\r\n",
        "def md_train(model, train_loader, valid_loader, test_loader, num_epochs=5, learning_rate=1e-5, pltout=True):\r\n",
        "    print('\\nTrening recurential network..')\r\n",
        "    criterion = nn.CrossEntropyLoss() \r\n",
        "    optimizer = torch.optim.Adam(model.parameters(), lr=learning_rate) \r\n",
        "    losses, train_acc, valid_acc, epochs = [], [], [], []  \r\n",
        "    \r\n",
        "    time.sleep(1)\r\n",
        "    start = time.time()\r\n",
        "    for epoch in range(num_epochs):          #dla kazdej epoki\r\n",
        "        for tweets, labels in train_loader:  #przechodze dane treningowe\r\n",
        "            sys.stdout.write(f'\\rEpoch number: {epoch+1}/{num_epochs}')\r\n",
        "            optimizer.zero_grad()\r\n",
        "            pred = model(tweets)         \r\n",
        "            loss = criterion(pred, labels)\r\n",
        "            loss.backward()\r\n",
        "            optimizer.step()\r\n",
        "        losses.append(float(loss))           #zapisuje wartosc funkcji kosztu\r\n",
        "        \r\n",
        "        epochs.append(epoch)             \r\n",
        "        train_acc.append(get_accuracy(model, train_loader))   #dokladnosc na zbiorze treningowym\r\n",
        "        valid_acc.append(get_accuracy(model, valid_loader))   #dokladnosc na zbiorze walidacyjnym\r\n",
        "        sys.stdout.write(f'\\rEpoch number: {epoch+1}      | Loss value: {loss:.4f} | Train accuracy: {round(train_acc[-1],3)} | Valid accuracy: {round(valid_acc[-1],3)}\\n')\r\n",
        "    sys.stdout.write(f'\\r> Done ({time.time()-start:.2f} s)                                                                                                   \\n')\r\n",
        "    #Wykresy\r\n",
        "    if pltout:\r\n",
        "      plt.title(\"Training Curve\")\r\n",
        "      plt.plot(losses, label=\"Train dataset\")\r\n",
        "      plt.xlabel(\"Epoch number\")\r\n",
        "      plt.ylabel(\"Loss value\")\r\n",
        "      plt.show()\r\n",
        "\r\n",
        "      plt.title(\"Training Curve\")\r\n",
        "      plt.plot(epochs, train_acc, label=\"Train dataset\")\r\n",
        "      plt.plot(epochs, valid_acc, label=\"Validation dataset\")\r\n",
        "      plt.xlabel(\"Epoch number\")\r\n",
        "      plt.ylabel(\"Accuracy\")\r\n",
        "      plt.legend(loc='best')\r\n",
        "      plt.show()\r\n",
        "    else:\r\n",
        "        print(\"plotout == False\\n\")    \r\n",
        "    print('Accuracy on test set : {:.4f}'.format(get_accuracy(model, test_loader)))\r\n"
      ],
      "execution_count": 27,
      "outputs": []
    },
    {
      "cell_type": "code",
      "metadata": {
        "id": "tqhVHl_0QADI",
        "colab": {
          "base_uri": "https://localhost:8080/",
          "height": 913
        },
        "outputId": "f48b0eec-31d0-4cd3-d454-f0034fec68f7"
      },
      "source": [
        "train, valid, test = get_indx(glove, a)\r\n",
        "\r\n",
        "batch_size = 32\r\n",
        "train_loader = TBatcher(train, batch_size=batch_size, drop_last=True)  #dane treningowe z batchem\r\n",
        "valid_loader = TBatcher(valid, batch_size=batch_size, drop_last=False)  #dane walidacyjne z batchem\r\n",
        "test_loader = TBatcher(test, batch_size=batch_size, drop_last=False)  #dane testowe z batchem\r\n",
        "\r\n",
        "                ################# LSTM #################\r\n",
        "\r\n",
        "print('\\nMaking LSTM model')\r\n",
        "model_lstm = T_LSTM(200, 5, 2)\r\n",
        "md_train(model_lstm, train_loader, valid_loader, test_loader, \r\n",
        "         num_epochs=15, learning_rate=1e-5, pltout=True)\r\n",
        "# Żeby nie uzyskiwać overfittingu przy zwiększeniu ilości danych\r\n",
        "# parametrem którym należy manipulować jest tylko learning rate;\r\n",
        "# im więcej danych tym mniejszy lr. \r\n",
        "# Wartość 1e-5 ustawiono na podstawie 15 000 recenzji."
      ],
      "execution_count": 28,
      "outputs": [
        {
          "output_type": "stream",
          "text": [
            "Getting index loaders => Done\n",
            "\n",
            "Trening recurential network..\n",
            "Epoch number: 1      | Loss value: 0.3193 | Train accuracy: 0.992 | Valid accuracy: 0.99\n",
            "Epoch number: 2      | Loss value: 0.1127 | Train accuracy: 0.999 | Valid accuracy: 0.999\n",
            "Epoch number: 3      | Loss value: 0.0718 | Train accuracy: 1.0 | Valid accuracy: 1.0\n",
            "Epoch number: 4      | Loss value: 0.0443 | Train accuracy: 1.0 | Valid accuracy: 1.0\n",
            "Epoch number: 5      | Loss value: 0.0315 | Train accuracy: 1.0 | Valid accuracy: 1.0\n",
            "Epoch number: 6      | Loss value: 0.0223 | Train accuracy: 1.0 | Valid accuracy: 1.0\n",
            "Epoch number: 7      | Loss value: 0.0163 | Train accuracy: 1.0 | Valid accuracy: 1.0\n",
            "Epoch number: 8      | Loss value: 0.0118 | Train accuracy: 1.0 | Valid accuracy: 1.0\n",
            "Epoch number: 9      | Loss value: 0.0097 | Train accuracy: 1.0 | Valid accuracy: 1.0\n",
            "Epoch number: 10      | Loss value: 0.0078 | Train accuracy: 1.0 | Valid accuracy: 1.0\n",
            "Epoch number: 11      | Loss value: 0.0062 | Train accuracy: 1.0 | Valid accuracy: 1.0\n",
            "Epoch number: 12      | Loss value: 0.0049 | Train accuracy: 1.0 | Valid accuracy: 1.0\n",
            "Epoch number: 13      | Loss value: 0.0039 | Train accuracy: 1.0 | Valid accuracy: 1.0\n",
            "Epoch number: 14      | Loss value: 0.0045 | Train accuracy: 1.0 | Valid accuracy: 1.0\n",
            "Epoch number: 15      | Loss value: 0.0026 | Train accuracy: 1.0 | Valid accuracy: 1.0\n",
            "> Done (333.08 s)                                                                                                   \n"
          ],
          "name": "stdout"
        },
        {
          "output_type": "display_data",
          "data": {
            "image/png": "[encoded data removed]",
            "text/plain": [
              "<Figure size 432x288 with 1 Axes>"
            ]
          },
          "metadata": {
            "tags": [],
            "needs_background": "light"
          }
        },
        {
          "output_type": "display_data",
          "data": {
            "image/png": "[encoded data removed]",
            "text/plain": [
              "<Figure size 432x288 with 1 Axes>"
            ]
          },
          "metadata": {
            "tags": [],
            "needs_background": "light"
          }
        },
        {
          "output_type": "stream",
          "text": [
            "Accuracy on test set : 1.0000\n"
          ],
          "name": "stdout"
        }
      ]
    },
    {
      "cell_type": "markdown",
      "metadata": {
        "id": "eMKtC8VF4_iq"
      },
      "source": [
        "GRU"
      ]
    },
    {
      "cell_type": "code",
      "metadata": {
        "id": "-H6qvQbF5Vlk"
      },
      "source": [
        "                ################# GRU #################\r\n",
        "\r\n",
        "class T_GRU(nn.Module):\r\n",
        "    def __init__(self, input_size, hidden_size, num_classes):\r\n",
        "        super().__init__()\r\n",
        "        self.emb = nn.Embedding.from_pretrained(glove.vectors) #embeddingi\r\n",
        "        self.hidden_size = hidden_size \r\n",
        "        self.gru = nn.GRU(input_size, hidden_size, batch_first=True)  #GRU\r\n",
        "        self.fc = nn.Linear(hidden_size, num_classes)   #przeksztalcenie liniowe\r\n",
        "    \r\n",
        "    def forward(self, x):\r\n",
        "        x = self.emb(x)  #embeddingi\r\n",
        "        h0 = torch.zeros(1, x.size(0), self.hidden_size) #początkowy stan ukryty\r\n",
        "        out, _ = self.gru(x, h0)   #GRU\r\n",
        "        out = self.fc(out[:, -1, :]) #ostatni output przeksztalcamy liniowo jeszcze\r\n",
        "        return out"
      ],
      "execution_count": 29,
      "outputs": []
    },
    {
      "cell_type": "code",
      "metadata": {
        "colab": {
          "base_uri": "https://localhost:8080/",
          "height": 913
        },
        "id": "HBLp5GtL5b2b",
        "outputId": "690a81a9-aff1-4119-faa7-f4b342795fda"
      },
      "source": [
        "print('\\nMaking GRU model')\r\n",
        "model_gru = T_GRU(200, 5, 2)\r\n",
        "md_train(model_gru, train_loader, valid_loader, test_loader, \r\n",
        "         num_epochs=15, learning_rate=3e-5, pltout=True) \r\n",
        "# Overfitting jw. Wartość 3e-5 ustawiono na podstawie 15 000 recenzji."
      ],
      "execution_count": 30,
      "outputs": [
        {
          "output_type": "stream",
          "text": [
            "\n",
            "Trening recurential network..\n",
            "Epoch number: 1      | Loss value: 0.2644 | Train accuracy: 0.942 | Valid accuracy: 0.936\n",
            "Epoch number: 2      | Loss value: 0.1398 | Train accuracy: 0.991 | Valid accuracy: 0.987\n",
            "Epoch number: 3      | Loss value: 0.0974 | Train accuracy: 0.998 | Valid accuracy: 0.996\n",
            "Epoch number: 4      | Loss value: 0.0385 | Train accuracy: 0.999 | Valid accuracy: 0.998\n",
            "Epoch number: 5      | Loss value: 0.0306 | Train accuracy: 1.0 | Valid accuracy: 0.999\n",
            "Epoch number: 6      | Loss value: 0.0212 | Train accuracy: 1.0 | Valid accuracy: 0.999\n",
            "Epoch number: 7      | Loss value: 0.0128 | Train accuracy: 1.0 | Valid accuracy: 1.0\n",
            "Epoch number: 8      | Loss value: 0.0096 | Train accuracy: 1.0 | Valid accuracy: 1.0\n",
            "Epoch number: 9      | Loss value: 0.0075 | Train accuracy: 1.0 | Valid accuracy: 1.0\n",
            "Epoch number: 10      | Loss value: 0.0074 | Train accuracy: 1.0 | Valid accuracy: 1.0\n",
            "Epoch number: 11      | Loss value: 0.0058 | Train accuracy: 1.0 | Valid accuracy: 1.0\n",
            "Epoch number: 12      | Loss value: 0.0042 | Train accuracy: 1.0 | Valid accuracy: 1.0\n",
            "Epoch number: 13      | Loss value: 0.0034 | Train accuracy: 1.0 | Valid accuracy: 1.0\n",
            "Epoch number: 14      | Loss value: 0.0029 | Train accuracy: 1.0 | Valid accuracy: 1.0\n",
            "Epoch number: 15      | Loss value: 0.0022 | Train accuracy: 1.0 | Valid accuracy: 1.0\n",
            "> Done (356.72 s)                                                                                                   \n"
          ],
          "name": "stdout"
        },
        {
          "output_type": "display_data",
          "data": {
            "image/png": "[encoded data removed]",
            "text/plain": [
              "<Figure size 432x288 with 1 Axes>"
            ]
          },
          "metadata": {
            "tags": [],
            "needs_background": "light"
          }
        },
        {
          "output_type": "display_data",
          "data": {
            "image/png": "[encoded data removed]",
            "text/plain": [
              "<Figure size 432x288 with 1 Axes>"
            ]
          },
          "metadata": {
            "tags": [],
            "needs_background": "light"
          }
        },
        {
          "output_type": "stream",
          "text": [
            "Accuracy on test set : 1.0000\n",
            "Dokładność na zbiorze testowym wynosi : 1.0000\n"
          ],
          "name": "stdout"
        }
      ]
    }
  ]
}