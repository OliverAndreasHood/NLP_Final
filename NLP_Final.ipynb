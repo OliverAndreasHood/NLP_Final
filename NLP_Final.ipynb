{
  "nbformat": 4,
  "nbformat_minor": 0,
  "metadata": {
    "colab": {
      "name": "NLP_Final.ipynb",
      "provenance": [],
      "collapsed_sections": [],
      "include_colab_link": true
    },
    "kernelspec": {
      "name": "python3",
      "display_name": "Python 3"
    }
  },
  "cells": [
    {
      "cell_type": "markdown",
      "metadata": {
        "id": "view-in-github",
        "colab_type": "text"
      },
      "source": [
        "<a href=\"https://colab.research.google.com/github/OliverAndreasHood/NLP_Final/blob/main/NLP_Final.ipynb\" target=\"_parent\"><img src=\"https://colab.research.google.com/assets/colab-badge.svg\" alt=\"Open In Colab\"/></a>"
      ]
    },
    {
      "cell_type": "code",
      "metadata": {
        "colab": {
          "base_uri": "https://localhost:8080/"
        },
        "id": "0b4Yp8JvtkIf",
        "outputId": "1ec1786f-f911-4166-d235-7f3ad04297d9"
      },
      "source": [
        "from google.colab import drive\n",
        "drive.mount('/content/drive')"
      ],
      "execution_count": null,
      "outputs": [
        {
          "output_type": "stream",
          "text": [
            "Drive already mounted at /content/drive; to attempt to forcibly remount, call drive.mount(\"/content/drive\", force_remount=True).\n"
          ],
          "name": "stdout"
        }
      ]
    },
    {
      "cell_type": "code",
      "metadata": {
        "id": "pD-p4Oai0_5J"
      },
      "source": [
        "##########################################################################\r\n",
        "#                                                                        #\r\n",
        "#                             NLP-FINAL                                  #\r\n",
        "#       which is the last winter semester project of the NLP course,     #\r\n",
        "#         student history from 2020 and 2021 in four python parts.       #\r\n",
        "#   Authors:                                                             #\r\n",
        "#       Piotr Szulc                                                      #\r\n",
        "#       Magdalena Lipka                                                  #\r\n",
        "#                                                                        #\r\n",
        "##########################################################################"
      ],
      "execution_count": null,
      "outputs": []
    },
    {
      "cell_type": "markdown",
      "metadata": {
        "id": "wXwC-0bz1UF9"
      },
      "source": [
        "# Preprocesing\r\n",
        "Przygotowanie i oczyszczenie tekstu do dalszej analizy:\r\n",
        "- zaimportowanie potrzebnych do tej części bibliotek\r\n",
        "- odczytanie pliku csv \r\n",
        "> csv.reader()\r\n",
        "- implementacja ogranicznika parsowania\r\n",
        "> \"lim\"\r\n",
        "- odfiltrowanie html'owskich znaków końca lini\r\n",
        "> row[0] = row[0].replace(\"< br />< br /\", \" \")\r\n",
        "- tokenizacja recenzji\r\n",
        "> row[0] = word_tokenize(row[0])\r\n",
        "- zmniejszenie dużych liter\r\n",
        "> word.lower()\r\n",
        "- usunięcie stopwords'ów\r\n",
        "- usunięcie liczb i innych znaków\r\n",
        "> (word.isalpha())\r\n",
        "- podział recenzji ze względu na sentyment (0 - Negatywne, 1 -> Pozytywne)\r\n",
        "- zwrot listy krotek \r\n",
        "> ([słowa, recenzji,...], sentyment)\r\n"
      ]
    },
    {
      "cell_type": "code",
      "metadata": {
        "id": "mK_chqjs2FfI",
        "colab": {
          "base_uri": "https://localhost:8080/"
        },
        "outputId": "44667ad1-603e-4a2d-b41a-831f503a8581"
      },
      "source": [
        "import nltk\r\n",
        "nltk.download('stopwords')\r\n",
        "nltk.download('punkt')\r\n",
        "\r\n",
        "import csv\r\n",
        "from nltk import word_tokenize\r\n",
        "from nltk.corpus import stopwords\r\n",
        "import sys\r\n",
        "import time"
      ],
      "execution_count": null,
      "outputs": [
        {
          "output_type": "stream",
          "text": [
            "[nltk_data] Downloading package stopwords to /root/nltk_data...\n",
            "[nltk_data]   Unzipping corpora/stopwords.zip.\n",
            "[nltk_data] Downloading package punkt to /root/nltk_data...\n",
            "[nltk_data]   Unzipping tokenizers/punkt.zip.\n"
          ],
          "name": "stdout"
        }
      ]
    },
    {
      "cell_type": "code",
      "metadata": {
        "id": "5vCESSAF1KWx"
      },
      "source": [
        "def load_csv2(file_path, l = [], lim = 0):\r\n",
        "    \"\"\"\r\n",
        "    file_path => type==str(), csv file with 2 columns separated with comma => (text, statement(0,1))\r\n",
        "    l => type==list() default l=[]\r\n",
        "    lim => type==int() default=0 (means parse whole file), number of lines to parse\r\n",
        "    \r\n",
        "    Loading function. Appending data to l as (row[0],row[1])\r\n",
        "    returns:\r\n",
        "        l = [[row[0], row[1]], ...]\r\n",
        "        statemen==0 => negative\r\n",
        "        len(pos) and len(neg)\r\n",
        "        alw => type==list(), filtered list of all words\r\n",
        "        \r\n",
        "    \"\"\"\r\n",
        "    #ładowanie pliku z podziałem na słowa i wykluczeniem stopwords, digit, punctuation\r\n",
        "    with open(file_path, \"r\", encoding='utf-8') as csv_file:\r\n",
        "        csv_reader = csv.reader(csv_file, delimiter=',')\r\n",
        "        sw =  set(stopwords.words(\"english\"))\r\n",
        "        line_count = 0\r\n",
        "        pos, neg, alw = [], [], []\r\n",
        "        percent = 0\r\n",
        "        \r\n",
        "        for row in csv_reader:\r\n",
        "            sys.stdout.write(f'\\rloading data' + f'\\t{percent:.1f}%\\t ({line_count})')\r\n",
        "            sys.stdout.flush()\r\n",
        "               \r\n",
        "            if line_count == 0:\r\n",
        "                line_count += 1\r\n",
        "            else:\r\n",
        "                row[0] = row[0].replace(\"<br /><br />\", \" \")\r\n",
        "                row[0] = word_tokenize(row[0])\r\n",
        "            \r\n",
        "                filtred = []\r\n",
        "                for word in row[0]:\r\n",
        "                    word = word.rstrip().lower()\r\n",
        "                    if word not in sw:\r\n",
        "                        if word.isalpha() == True:\r\n",
        "                            filtred.append(word)\r\n",
        "                            alw.append(word)\r\n",
        "                            \r\n",
        "                if int(row[1]) == 0:\r\n",
        "                     neg.append((filtred, int(row[1])))\r\n",
        "                else:\r\n",
        "                    pos.append((filtred, int(row[1])))\r\n",
        "                line_count += 1\r\n",
        "        \r\n",
        "        \r\n",
        "            # Ogranicznik parsowania\r\n",
        "            if lim == 0:\r\n",
        "                percent = (line_count)/50000*100\r\n",
        "            else:\r\n",
        "                percent = (line_count)/lim*100\r\n",
        "            \r\n",
        "            if lim != 0 and line_count == lim+1:\r\n",
        "                break\r\n",
        "            time.sleep(0.001)\r\n",
        "            \r\n",
        "        l = pos + neg\r\n",
        "        sys.stdout.write('\\rDone!       ')\r\n",
        "        time.sleep(1)\r\n",
        "    return l, len(pos), len(neg), alw"
      ],
      "execution_count": null,
      "outputs": []
    },
    {
      "cell_type": "markdown",
      "metadata": {
        "id": "FT-e4aDU3u59"
      },
      "source": [
        "#Wykonanie części pierwszej - Parsowanie"
      ]
    },
    {
      "cell_type": "code",
      "metadata": {
        "colab": {
          "base_uri": "https://localhost:8080/"
        },
        "id": "AurI4aa13x4o",
        "outputId": "8d93adcb-98f4-4d59-e3e3-2d12374f777f"
      },
      "source": [
        "############################## PART_A ####################################\r\n",
        "# tworzę liste krotek \"a\" i liste wszystkich słów \"allwords\"\r\n",
        "#a, p_len, n_len, allwords = load_csv2(\"movies_data.csv\", lim = 0) \r\n",
        "a, p_len, n_len, allwords = load_csv2(\"/content/movies_data.csv\", lim = 10000) \r\n",
        "# daję 1018 żeby później operować na ok.500 pos i 500 neg. Finalnie ustawi się 0 => całosć\r\n",
        "\r\n",
        "print(f\"\\n\\nNumber of reviews:\\nPositive: {p_len}\\nNegative: {n_len}\")\r\n",
        "if p_len == n_len: print(\"The data is \"+\"\\x1b[6;30;42m\"+\"balanced.\\n\"+'\\x1b[0m')\r\n",
        "else: print(\"The data is \"+'\\x1b[7;30;41m'+\"not balanced!\\n\"+\"\\x1b[0m\")"
      ],
      "execution_count": null,
      "outputs": [
        {
          "output_type": "stream",
          "text": [
            "Done!       \n",
            "\n",
            "Number of reviews:\n",
            "Positive: 4965\n",
            "Negative: 5035\n",
            "The data is \u001b[7;30;41mnot balanced!\n",
            "\u001b[0m\n"
          ],
          "name": "stdout"
        }
      ]
    },
    {
      "cell_type": "markdown",
      "metadata": {
        "id": "dFbYzrZ66QaW"
      },
      "source": [
        "#2. Wstępna analiza tekstu\r\n",
        "- Ilość słów w recenzjach\r\n",
        "- Ilość unikatowych słów w recenzjach\r\n",
        "- rozkład 40 najpopularniejszych słów"
      ]
    },
    {
      "cell_type": "code",
      "metadata": {
        "id": "lpV9kEf36yGG"
      },
      "source": [
        "from nltk.probability import FreqDist\r\n",
        "import time"
      ],
      "execution_count": null,
      "outputs": []
    },
    {
      "cell_type": "code",
      "metadata": {
        "id": "raKU6dtU6vXs"
      },
      "source": [
        "def word_counter2(alw, out=False, cl = 10):\r\n",
        "    \"\"\"\r\n",
        "    alw => type==list, list of words to count\r\n",
        "    out => type==bool default = False, to print out BoW, SoW and most_common_words plot.\r\n",
        "    cl => type==int default = 10, number of most_common_words to plot.\r\n",
        "    \r\n",
        "    if out:\r\n",
        "        printing BagOfWords lenght\r\n",
        "        printing SetOfWords lenght\r\n",
        "        ploting [cl] most_common words \r\n",
        "    returning BoW dict, type==probability.FreqDist \r\n",
        "    \"\"\"\r\n",
        "    if out: print(f'Number of all words:\\t{len(alw)}')\r\n",
        "    BoW = FreqDist(alw)\r\n",
        "    if out: print(f'Number of unique words:\\t{len(set(BoW))}\\n')\r\n",
        "    \r\n",
        "    time.sleep(1)\r\n",
        "    if out: BoW.plot(cl,title=f'Distribution of the {cl} most common words')\r\n",
        "    \r\n",
        "    return BoW"
      ],
      "execution_count": null,
      "outputs": []
    },
    {
      "cell_type": "markdown",
      "metadata": {
        "id": "___T7GwN6rMd"
      },
      "source": [
        "#Wykonanie cześci drugiej"
      ]
    },
    {
      "cell_type": "code",
      "metadata": {
        "colab": {
          "base_uri": "https://localhost:8080/",
          "height": 389
        },
        "id": "PueZ7U3D6lOd",
        "outputId": "7a9f78dd-83fb-442d-c21c-70b7e7193532"
      },
      "source": [
        "############################## PART_B ####################################\r\n",
        "# tworzę BagOfWords i wypusuję wartosci Bow,Sow + plot 40 most_common\r\n",
        "bow = word_counter2(allwords, cl = 40, out=True)"
      ],
      "execution_count": null,
      "outputs": [
        {
          "output_type": "stream",
          "text": [
            "Number of all words:\t1137336\n",
            "Number of unique words:\t50878\n",
            "\n"
          ],
          "name": "stdout"
        },
        {
          "output_type": "display_data",
          "data": {
            "image/png": "[encoded data removed]",
            "text/plain": [
              "<Figure size 432x288 with 1 Axes>"
            ]
          },
          "metadata": {
            "tags": [],
            "needs_background": "light"
          }
        }
      ]
    },
    {
      "cell_type": "markdown",
      "metadata": {
        "id": "_TPxIzZ67D8F"
      },
      "source": [
        "#3. Analiza danych algorytmami klasycznymi\r\n",
        "- Zaimportowanie potrzebnych modułów i funkcji"
      ]
    },
    {
      "cell_type": "code",
      "metadata": {
        "id": "fjjDDYAj7kww"
      },
      "source": [
        "import numpy as np\r\n",
        "import random\r\n",
        "import nltk\r\n",
        "import sys\r\n",
        "import time\r\n",
        "from nltk.classify.scikitlearn import SklearnClassifier\r\n",
        "from sklearn.naive_bayes import MultinomialNB\r\n",
        "from sklearn.linear_model import LogisticRegression\r\n",
        "from sklearn.svm import LinearSVC\r\n",
        "from nltk.classify import ClassifierI\r\n",
        "from statistics import mode"
      ],
      "execution_count": null,
      "outputs": []
    },
    {
      "cell_type": "code",
      "metadata": {
        "id": "1CZRA5PU7sT5"
      },
      "source": [
        "def find_features(document, word_features):\r\n",
        "        words = set(document)\r\n",
        "        features = {}\r\n",
        "        for w in word_features:\r\n",
        "            features[w] = (w in words)\r\n",
        "        return features"
      ],
      "execution_count": null,
      "outputs": []
    },
    {
      "cell_type": "markdown",
      "metadata": {
        "id": "kpGvNynP8V-9"
      },
      "source": [
        "- Funkcja analizująca tekst w oparciu o klasyczny algorytm Naive Bayes z wypisaniem słów najbardziej informatywnych"
      ]
    },
    {
      "cell_type": "code",
      "metadata": {
        "id": "ji4-yIw98hou"
      },
      "source": [
        "##########################1.Naive Bayes + most informative words ###############\r\n",
        "\r\n",
        "def NaivB1(revs, BoW, lim=3000, TrSet=0.8, outacc=False, mostif=False, mif=10):\r\n",
        "    \"\"\"\r\n",
        "    revs => type==list, parsed input data as [([words], statement), ([...],.), ...]\r\n",
        "    Bow => type==probability.FreqDist, BagOfWords representation of l, \r\n",
        "    lim => type==int. word_features cut-off \r\n",
        "    TrSet => type==float default 0.8, size of Trening_Set. Testing_set = 1 - TrSet    \r\n",
        "    outacc => type==bool default = False, print out Naive Bayes acc.\r\n",
        "    mostif => type==bool default False, print n most informative futures from Naive Bayes Classifier \r\n",
        "    mif => type==int default 10, number of most informative features to print, have to be greater than 0.\r\n",
        "    \"\"\"\r\n",
        "    start = time.time()\r\n",
        "    print('Classic Naive Bayes algorythm\\n')\r\n",
        "   \r\n",
        "    sys.stdout.write(\"\\r=> Preparing . \") #Lista branych pod uwagę słów o wielkości [:lim]\r\n",
        "    wf = list(BoW.keys())[:lim] \r\n",
        "    \r\n",
        "    sys.stdout.write(\"\\r=> Preparing #. \")  #Przemieszanie recenzji\r\n",
        "    random.shuffle(revs)\r\n",
        "    \r\n",
        "    sys.stdout.write(\"\\r=> Preparing ##. \") #Przeliczenie %TrSet na indeks ostatniej recenzji z setu treningowego\r\n",
        "    TrSet = int(len(revs)*TrSet)  \r\n",
        "    \r\n",
        "    sys.stdout.write(\"\\r=> Preparing ###. \")  #Utworzenie featuresets\r\n",
        "    featuresets = [(find_features(rev, wf),category) for (rev,category) in revs]\r\n",
        "    \r\n",
        "    sys.stdout.write(\"\\r=> Preparing ####. \") #Podział na set treningowy i testowy\r\n",
        "    training_set = featuresets[:TrSet]   \r\n",
        "    testing_set = featuresets[TrSet:]\r\n",
        "    sys.stdout.write(f\"\\rPreparing time {time.time()-start:.2f} s\\n\")\r\n",
        "    \r\n",
        "    start = time.time()\r\n",
        "    sys.stdout.write(\"\\r=> Training..  \") #Trenowanie modelu\r\n",
        "    NB_classifier = nltk.NaiveBayesClassifier.train(training_set)\r\n",
        "    sys.stdout.write(f\"\\rTraining time  {time.time()-start:.2f} s\\n\")\r\n",
        "    \r\n",
        "    start = time.time()\r\n",
        "    sys.stdout.write(\"\\r=> Testing..  \")  #Testowanie modelu\r\n",
        "    acc = (nltk.classify.accuracy(NB_classifier,testing_set))*100\r\n",
        "    sys.stdout.write(f\"\\rTesting time  {time.time()-start:.2f} s\\n\")\r\n",
        "    time.sleep(1)    \r\n",
        "    \r\n",
        "    if outacc: print(f\"\\n> The accuracy of the MNB Naive Bayes method to the classification problem on the test set is: {acc:.2f}\") \r\n",
        "    time.sleep(2)    \r\n",
        "    if mostif and mif>0: NB_classifier.show_most_informative_features(mif)\r\n",
        "    return "
      ],
      "execution_count": null,
      "outputs": []
    },
    {
      "cell_type": "code",
      "metadata": {
        "colab": {
          "base_uri": "https://localhost:8080/"
        },
        "id": "A_hwR2f39zAn",
        "outputId": "6ff72ec5-1647-4591-d99b-229f73b32920"
      },
      "source": [
        "############################## PART_C ####################################\r\n",
        "# odpalamy klasyczy Naive Bayes do wypisania najważniejszych słów\r\n",
        "NaivB1(a, bow, outacc=True, mostif=True, mif=15)"
      ],
      "execution_count": null,
      "outputs": [
        {
          "output_type": "stream",
          "text": [
            "Classic Naive Bayes algorythm\n",
            "\n",
            "Preparing time 3.84 s\n",
            "Training time  28.73 s\n",
            "Testing time  15.41 s\n",
            "\n",
            "> The accuracy of the MNB Naive Bayes method to the classification problem on the test set is: 82.70\n",
            "Most Informative Features\n",
            "               uplifting = True                1 : 0      =     15.5 : 1.0\n",
            "               laughable = True                0 : 1      =     12.0 : 1.0\n",
            "               worthless = True                0 : 1      =     11.8 : 1.0\n",
            "                   waste = True                0 : 1      =     11.7 : 1.0\n",
            "                   worst = True                0 : 1      =     10.6 : 1.0\n",
            "             wonderfully = True                1 : 0      =      9.5 : 1.0\n",
            "                   snowy = True                1 : 0      =      8.6 : 1.0\n",
            "             beautifully = True                1 : 0      =      8.5 : 1.0\n",
            "                   awful = True                0 : 1      =      8.1 : 1.0\n",
            "                   blake = True                1 : 0      =      8.0 : 1.0\n",
            "            unconvincing = True                0 : 1      =      8.0 : 1.0\n",
            "                   sucks = True                0 : 1      =      8.0 : 1.0\n",
            "              dedication = True                1 : 0      =      7.9 : 1.0\n",
            "                  hooked = True                1 : 0      =      7.4 : 1.0\n",
            "                   bible = True                0 : 1      =      7.1 : 1.0\n"
          ],
          "name": "stdout"
        }
      ]
    },
    {
      "cell_type": "markdown",
      "metadata": {
        "id": "Dv6QyNmk_P8E"
      },
      "source": [
        "- Zdefiniowanie funkcji potrzebnych do powtórzeń tworzenia modelów opartych o różne klasyfikatory"
      ]
    },
    {
      "cell_type": "code",
      "metadata": {
        "id": "opGelD1x_LIz"
      },
      "source": [
        "##########################1A. Naive Bayes #####################################\r\n",
        "\r\n",
        "def NaivB2(training_set, testing_set):\r\n",
        "      \r\n",
        "    MNB_classifier = SklearnClassifier(MultinomialNB())\r\n",
        "    MNB_classifier.train(training_set)\r\n",
        "    acc = (nltk.classify.accuracy(MNB_classifier,testing_set))*100\r\n",
        "        \r\n",
        "    return acc\r\n",
        "\r\n",
        "##########################2. Logistic Regression ##############################\r\n",
        "\r\n",
        "def LogRegr(training_set, testing_set):\r\n",
        "    \r\n",
        "    LogisticRegression_classifier = SklearnClassifier(LogisticRegression(solver='lbfgs', max_iter=300))\r\n",
        "    LogisticRegression_classifier.train(training_set)\r\n",
        "    acc = (nltk.classify.accuracy(LogisticRegression_classifier, testing_set))*100\r\n",
        "\r\n",
        "    return acc\r\n",
        "\r\n",
        "##########################3. SVM ##############################################\r\n",
        "\r\n",
        "def SvmF(training_set, testing_set):\r\n",
        "     \r\n",
        "    LinearSVC_classifier = SklearnClassifier(LinearSVC())\r\n",
        "    LinearSVC_classifier.train(training_set)\r\n",
        "    acc = (nltk.classify.accuracy(LinearSVC_classifier, testing_set))*100\r\n",
        "        \r\n",
        "    return acc\r\n",
        "\r\n",
        "##########################4. Aggregated all above #############################\r\n",
        "\r\n",
        "class AggClassifier(ClassifierI):\r\n",
        "    def __init__(self, *classifiers):\r\n",
        "        self._classifiers = classifiers\r\n",
        "\r\n",
        "    def classify(self, features):\r\n",
        "        votes = []\r\n",
        "        for c in self._classifiers:\r\n",
        "            v = c.classify(features)\r\n",
        "            votes.append(v)\r\n",
        "        return mode(votes)\r\n",
        "\r\n",
        "    def confidence(self, features):\r\n",
        "        votes = []\r\n",
        "        for c in self._classifiers:\r\n",
        "            v = c.classify(features)\r\n",
        "            votes.append(v)\r\n",
        "\r\n",
        "        choice_votes = votes.count(mode(votes))\r\n",
        "        conf = choice_votes / len(votes)\r\n",
        "        return conf\r\n",
        "\r\n",
        "def AllF(training_set, testing_set):\r\n",
        "\r\n",
        "    MNB_classifier = SklearnClassifier(MultinomialNB())\r\n",
        "    MNB_classifier.train(training_set)\r\n",
        "\r\n",
        "    LogisticRegression_classifier = SklearnClassifier(LogisticRegression(solver='lbfgs', max_iter=300))\r\n",
        "    LogisticRegression_classifier.train(training_set)\r\n",
        "\r\n",
        "    LinearSVC_classifier = SklearnClassifier(LinearSVC())\r\n",
        "    LinearSVC_classifier.train(training_set)\r\n",
        "    \r\n",
        "    agg_classifier = AggClassifier(MNB_classifier,\r\n",
        "                                   LogisticRegression_classifier,\r\n",
        "                                   LinearSVC_classifier)\r\n",
        "    \r\n",
        "    acc = (nltk.classify.accuracy(agg_classifier, testing_set))*100\r\n",
        "        \r\n",
        "    return acc"
      ],
      "execution_count": null,
      "outputs": []
    },
    {
      "cell_type": "markdown",
      "metadata": {
        "id": "4l-irXrGAL3k"
      },
      "source": [
        "- Zdefiniowanie funkcji wykonującej zadane powtórzenia wypisująca również średnie dokładności każdej z metod"
      ]
    },
    {
      "cell_type": "code",
      "metadata": {
        "id": "Ql1Q4-AMAZuL"
      },
      "source": [
        "def Cmain_f(revs, BoW, lim=3000, TrSet=0.8, repeats=2, auto=False, ls_acc=True):\r\n",
        "    \"\"\"\r\n",
        "    revs => type==list, parsed input data as [([words], statement), ([...],.), ...]\r\n",
        "    Bow => type==probability.FreqDist, BagOfWords representation of l, \r\n",
        "    lim => type==int. word_features cut-off \r\n",
        "    TrSet => type==float default 0.8, size of Trening_Set. Testing_set = 1 - TrSet    \r\n",
        "    repeats => type==int default 0, repeats number of choosen method\r\n",
        "    auto => type==bool default False, repeat all methods autmoaticly\r\n",
        "    ls_acc => type==bool default True, list acc of each one repeat.\r\n",
        "    \"\"\"\r\n",
        "    print(\"\\nC_main reading input config...\")\r\n",
        "    time.sleep(1)\r\n",
        "    \r\n",
        "    #końcowa tabela zbiorcza\r\n",
        "    accs = []\r\n",
        "    \r\n",
        "    if auto:\r\n",
        "        print(\"> Proces will repeat automaticly for all methods.\")\r\n",
        "        func = \"AUTO\"\r\n",
        "        time.sleep(1)\r\n",
        "    else:\r\n",
        "        x = input(\"#Runing method repeats#\\nChoose one following methods:\\n1 => Naive Bayes\\n2 => Logistic Regresion\\n3 => Linear SVM\\n4 => Aggregated all above\\n> \")\r\n",
        "        methods = ['1','2','3','4']\r\n",
        "        if x in methods:\r\n",
        "            if x == \"1\": func = \"NB\"\r\n",
        "            elif x == \"2\": func = \"LR\"\r\n",
        "            elif x == \"3\": func = \"SVM\"\r\n",
        "            elif x == \"4\": func = \"ALL\"\r\n",
        "        else:\r\n",
        "            print(\"Wrong input!\")\r\n",
        "            return False    \r\n",
        "    \r\n",
        "    sys.stdout.write(\"\\rCreating Data Sets => Preparing.. \")\r\n",
        "    wf = list(BoW.keys())[:lim]\r\n",
        "    TrSet = int(len(revs)*TrSet)\r\n",
        "    random.shuffle(revs)\r\n",
        "    \r\n",
        "    sys.stdout.write(\"\\rCreating Data Sets => Indexing..  \")\r\n",
        "    featuresets = [(find_features(rev,wf),category) for (rev,category) in revs]\r\n",
        "    sys.stdout.write(\"\\rCreating Data Sets => Done         \\n\")\r\n",
        "    \r\n",
        "    if func == \"NB\" or func == \"AUTO\":  #Pętla dla algorytmu Naive Bayes\r\n",
        "        NBacc_list = []\r\n",
        "        i=repeats\r\n",
        "        print(f'\\nRuning MNB Naive Bayes {repeats} repeats..')\r\n",
        "        while i:\r\n",
        "            random.shuffle(featuresets)\r\n",
        "            training_set = featuresets[:TrSet]\r\n",
        "            testing_set = featuresets[TrSet:]\r\n",
        "            sys.stdout.write(f\"\\rRun No.{repeats-i+1} \")\r\n",
        "            \r\n",
        "            NBacc_list.append(NaivB2(training_set, testing_set))\r\n",
        "            if ls_acc: print(f'acc: {NBacc_list[repeats-i]:.2f}')\r\n",
        "            i-=1\r\n",
        "\r\n",
        "        #Wyznaczenie i wypisanie średniej dokładności        \r\n",
        "        NBacc = np.mean(NBacc_list)\r\n",
        "        print(f'MNB Naive Bayes method mean accuracy in {repeats} repeats: {NBacc:.4f}\\n')\r\n",
        "        accs.append((\"NB\", NBacc, NBacc_list))\r\n",
        "        time.sleep(1)\r\n",
        "        \r\n",
        "    if func == \"LR\" or func == \"AUTO\":  #Pętla dla algorytmu Logistic Regression\r\n",
        "        LRacc_list = []\r\n",
        "        i=repeats\r\n",
        "        print(f\"\\nRuning Logistic Regression {repeats} repeats..\")\r\n",
        "        while i:\r\n",
        "            random.shuffle(featuresets)\r\n",
        "            training_set = featuresets[:TrSet]\r\n",
        "            testing_set = featuresets[TrSet:]\r\n",
        "            sys.stdout.write(f\"\\rRun No.{repeats-i+1} \")\r\n",
        "            \r\n",
        "            LRacc_list.append(LogRegr(training_set, testing_set))\r\n",
        "            if ls_acc: print(f'acc: {LRacc_list[repeats-i]:.2f}')\r\n",
        "            i-=1\r\n",
        "            \r\n",
        "        LRacc = np.mean(LRacc_list)\r\n",
        "        print(f'Logistic Regression method mean accuracy in {repeats} repeats: {LRacc:.4f}\\n')\r\n",
        "        accs.append((\"LR\", LRacc, LRacc_list))\r\n",
        "        time.sleep(1)\r\n",
        "\r\n",
        "    if func == \"SVM\" or func == \"AUTO\": #Pętla dla algorytmu SVM\r\n",
        "        SVMacc_list = []\r\n",
        "        i=repeats\r\n",
        "        print(f\"\\nRuning Linear SVM {repeats} repeats..\")\r\n",
        "        while i:\r\n",
        "            random.shuffle(featuresets)\r\n",
        "            training_set = featuresets[:TrSet]\r\n",
        "            testing_set = featuresets[TrSet:]\r\n",
        "            sys.stdout.write(f\"\\rRun No.{repeats-i+1} \")\r\n",
        "            \r\n",
        "            SVMacc_list.append(SvmF(training_set, testing_set))\r\n",
        "            if ls_acc: print(f'acc: {SVMacc_list[repeats-i]:.2f}')\r\n",
        "            i-=1\r\n",
        "\r\n",
        "        SVMacc = np.mean(SVMacc_list)\r\n",
        "        print(f'Linear SVM method mean accuracy in {repeats} repeats: {SVMacc:.4f}\\n')\r\n",
        "        accs.append((\"SVM\", SVMacc, SVMacc_list))\r\n",
        "        time.sleep(1)\r\n",
        "\r\n",
        "    if func == \"ALL\" or func == \"AUTO\": #Pętla dla zagregowanego klasyfikatora\r\n",
        "        ALLacc_list = []\r\n",
        "        i=repeats\r\n",
        "        print(f\"\\nRuning Aggregated classifier {repeats} repeats..\")\r\n",
        "        while i:\r\n",
        "            random.shuffle(featuresets)\r\n",
        "            training_set = featuresets[:TrSet]\r\n",
        "            testing_set = featuresets[TrSet:]\r\n",
        "            sys.stdout.write(f\"\\rRun No.{repeats-i+1} \")\r\n",
        "            \r\n",
        "            ALLacc_list.append(AllF(training_set, testing_set))\r\n",
        "            if ls_acc: print(f'acc: {ALLacc_list[repeats-i]:.2f}')\r\n",
        "            i-=1\r\n",
        "\r\n",
        "        ALLacc = np.mean(ALLacc_list)\r\n",
        "        print(f'Aggregated classifier method mean accuracy in {repeats} repeats: {ALLacc:.4f}\\n')\r\n",
        "        accs.append((\"ALL\", ALLacc, ALLacc_list))\r\n",
        "        time.sleep(1)\r\n",
        "\r\n",
        "    return accs"
      ],
      "execution_count": null,
      "outputs": []
    },
    {
      "cell_type": "code",
      "metadata": {
        "colab": {
          "base_uri": "https://localhost:8080/"
        },
        "id": "vjnXoh_OAq7j",
        "outputId": "dbb476ad-6c71-4998-a04c-7eed79b0f460"
      },
      "source": [
        "# odpalam serię wszystkich metod (auto=True) po 10 powtórzeń, zwraca listę wyników.\r\n",
        "accs = Cmain_f(a, bow, repeats=10, auto=True)"
      ],
      "execution_count": null,
      "outputs": [
        {
          "output_type": "stream",
          "text": [
            "\n",
            "C_main reading input config...\n",
            "> Proces will repeat automaticly for all methods.\n",
            "Creating Data Sets => Done         \n",
            "\n",
            "Runing MNB Naive Bayes 10 repeats..\n",
            "Run No.1 acc: 83.80\n",
            "Run No.2 acc: 84.15\n",
            "Run No.3 acc: 83.05\n",
            "Run No.4 acc: 83.60\n",
            "Run No.5 acc: 83.80\n",
            "Run No.6 acc: 83.35\n",
            "Run No.7 acc: 83.60\n",
            "Run No.8 acc: 83.20\n",
            "Run No.9 acc: 83.25\n",
            "Run No.10 acc: 84.55\n",
            "MNB Naive Bayes method mean accuracy in 10 repeats: 83.6350\n",
            "\n",
            "\n",
            "Runing Logistic Regression 10 repeats..\n",
            "Run No.1 acc: 82.05\n",
            "Run No.2 acc: 84.30\n",
            "Run No.3 acc: 83.15\n",
            "Run No.4 acc: 82.85\n",
            "Run No.5 acc: 82.35\n",
            "Run No.6 acc: 83.50\n",
            "Run No.7 acc: 83.30\n",
            "Run No.8 acc: 82.75\n",
            "Run No.9 acc: 83.15\n",
            "Run No.10 acc: 83.65\n",
            "Logistic Regression method mean accuracy in 10 repeats: 83.1050\n",
            "\n",
            "\n",
            "Runing Linear SVM 10 repeats..\n",
            "Run No.1 "
          ],
          "name": "stdout"
        },
        {
          "output_type": "stream",
          "text": [
            "/usr/local/lib/python3.6/dist-packages/sklearn/svm/_base.py:947: ConvergenceWarning: Liblinear failed to converge, increase the number of iterations.\n",
            "  \"the number of iterations.\", ConvergenceWarning)\n"
          ],
          "name": "stderr"
        },
        {
          "output_type": "stream",
          "text": [
            "acc: 81.45\n",
            "Run No.2 acc: 81.20\n",
            "Run No.3 acc: 79.90\n",
            "Run No.4 acc: 79.40\n",
            "Run No.5 acc: 78.45\n",
            "Run No.6 acc: 79.15\n",
            "Run No.7 acc: 79.70\n",
            "Run No.8 acc: 80.45\n",
            "Run No.9 acc: 80.00\n",
            "Run No.10 acc: 80.15\n",
            "Linear SVM method mean accuracy in 10 repeats: 79.9850\n",
            "\n",
            "\n",
            "Runing Aggregated classifier 10 repeats..\n",
            "Run No.1 "
          ],
          "name": "stdout"
        },
        {
          "output_type": "stream",
          "text": [
            "/usr/local/lib/python3.6/dist-packages/sklearn/svm/_base.py:947: ConvergenceWarning: Liblinear failed to converge, increase the number of iterations.\n",
            "  \"the number of iterations.\", ConvergenceWarning)\n"
          ],
          "name": "stderr"
        },
        {
          "output_type": "stream",
          "text": [
            "acc: 82.30\n",
            "\rRun No.2 "
          ],
          "name": "stdout"
        },
        {
          "output_type": "stream",
          "text": [
            "/usr/local/lib/python3.6/dist-packages/sklearn/svm/_base.py:947: ConvergenceWarning: Liblinear failed to converge, increase the number of iterations.\n",
            "  \"the number of iterations.\", ConvergenceWarning)\n"
          ],
          "name": "stderr"
        },
        {
          "output_type": "stream",
          "text": [
            "acc: 83.05\n",
            "\rRun No.3 "
          ],
          "name": "stdout"
        },
        {
          "output_type": "stream",
          "text": [
            "/usr/local/lib/python3.6/dist-packages/sklearn/svm/_base.py:947: ConvergenceWarning: Liblinear failed to converge, increase the number of iterations.\n",
            "  \"the number of iterations.\", ConvergenceWarning)\n"
          ],
          "name": "stderr"
        },
        {
          "output_type": "stream",
          "text": [
            "acc: 82.65\n",
            "\rRun No.4 "
          ],
          "name": "stdout"
        },
        {
          "output_type": "stream",
          "text": [
            "/usr/local/lib/python3.6/dist-packages/sklearn/svm/_base.py:947: ConvergenceWarning: Liblinear failed to converge, increase the number of iterations.\n",
            "  \"the number of iterations.\", ConvergenceWarning)\n"
          ],
          "name": "stderr"
        },
        {
          "output_type": "stream",
          "text": [
            "acc: 82.95\n",
            "\rRun No.5 "
          ],
          "name": "stdout"
        },
        {
          "output_type": "stream",
          "text": [
            "/usr/local/lib/python3.6/dist-packages/sklearn/svm/_base.py:947: ConvergenceWarning: Liblinear failed to converge, increase the number of iterations.\n",
            "  \"the number of iterations.\", ConvergenceWarning)\n"
          ],
          "name": "stderr"
        },
        {
          "output_type": "stream",
          "text": [
            "acc: 83.30\n",
            "\rRun No.6 "
          ],
          "name": "stdout"
        },
        {
          "output_type": "stream",
          "text": [
            "/usr/local/lib/python3.6/dist-packages/sklearn/svm/_base.py:947: ConvergenceWarning: Liblinear failed to converge, increase the number of iterations.\n",
            "  \"the number of iterations.\", ConvergenceWarning)\n"
          ],
          "name": "stderr"
        },
        {
          "output_type": "stream",
          "text": [
            "acc: 84.80\n",
            "\rRun No.7 "
          ],
          "name": "stdout"
        },
        {
          "output_type": "stream",
          "text": [
            "/usr/local/lib/python3.6/dist-packages/sklearn/svm/_base.py:947: ConvergenceWarning: Liblinear failed to converge, increase the number of iterations.\n",
            "  \"the number of iterations.\", ConvergenceWarning)\n"
          ],
          "name": "stderr"
        },
        {
          "output_type": "stream",
          "text": [
            "acc: 83.95\n",
            "\rRun No.8 "
          ],
          "name": "stdout"
        },
        {
          "output_type": "stream",
          "text": [
            "/usr/local/lib/python3.6/dist-packages/sklearn/svm/_base.py:947: ConvergenceWarning: Liblinear failed to converge, increase the number of iterations.\n",
            "  \"the number of iterations.\", ConvergenceWarning)\n"
          ],
          "name": "stderr"
        },
        {
          "output_type": "stream",
          "text": [
            "acc: 83.25\n",
            "\rRun No.9 "
          ],
          "name": "stdout"
        },
        {
          "output_type": "stream",
          "text": [
            "/usr/local/lib/python3.6/dist-packages/sklearn/svm/_base.py:947: ConvergenceWarning: Liblinear failed to converge, increase the number of iterations.\n",
            "  \"the number of iterations.\", ConvergenceWarning)\n"
          ],
          "name": "stderr"
        },
        {
          "output_type": "stream",
          "text": [
            "acc: 82.75\n",
            "\rRun No.10 "
          ],
          "name": "stdout"
        },
        {
          "output_type": "stream",
          "text": [
            "/usr/local/lib/python3.6/dist-packages/sklearn/svm/_base.py:947: ConvergenceWarning: Liblinear failed to converge, increase the number of iterations.\n",
            "  \"the number of iterations.\", ConvergenceWarning)\n"
          ],
          "name": "stderr"
        },
        {
          "output_type": "stream",
          "text": [
            "acc: 83.40\n",
            "Aggregated classifier method mean accuracy in 10 repeats: 83.2400\n",
            "\n"
          ],
          "name": "stdout"
        }
      ]
    },
    {
      "cell_type": "markdown",
      "metadata": {
        "id": "G5e375zdBueY"
      },
      "source": [
        "#4. Analiza oparta o sieci neuronowe\r\n"
      ]
    },
    {
      "cell_type": "code",
      "metadata": {
        "id": "_vCEHi3BB5S_"
      },
      "source": [
        "import torch\r\n",
        "import torch.nn as nn\r\n",
        "import torch.nn.functional as F\r\n",
        "import torch.autograd as autograd\r\n",
        "import torchtext\r\n",
        "import matplotlib.pyplot as plt"
      ],
      "execution_count": null,
      "outputs": []
    },
    {
      "cell_type": "markdown",
      "metadata": {
        "id": "XBX03wdaB79l"
      },
      "source": [
        "1. Reprezentacja (Bag of Words) i jedno przekształcenie liniowe\r\n",
        "> Trening_set = 80%; Test_set = 20%\r\n"
      ]
    },
    {
      "cell_type": "code",
      "metadata": {
        "id": "9Q4ckApCCGtH"
      },
      "source": [
        "def bow_and_web(revs, TrSet=0.8, lr=0.1, n_iters=100):\r\n",
        "    \"\"\"\r\n",
        "    revs => type==list, parsed input data as [([words], statement), ([...],.), ...]\r\n",
        "    TrSet => type==float default 0.8, size of Trening_Set. Testing_set = 1 - TrSet \r\n",
        "    lr => type==float default 0.1, model learning rate\r\n",
        "    n_iters => type==int default 100, number of training iterations\r\n",
        "    \"\"\"\r\n",
        "    #pomocnicza funkcja1\r\n",
        "\r\n",
        "    def make_bow_vector(sentence, word_to_ix):\r\n",
        "        vec = torch.zeros(len(word_to_ix))\r\n",
        "        for word in sentence:\r\n",
        "            vec[word_to_ix[word]] += 1\r\n",
        "            return vec.view(1, -1)\r\n",
        "        \r\n",
        "    #pomocnicza funkcja2\r\n",
        "\r\n",
        "    def make_target(label, label_to_ix):\r\n",
        "        return torch.LongTensor([label_to_ix[label]])\r\n",
        "    \r\n",
        "    #Model\r\n",
        "\r\n",
        "    class BoWClassifier(nn.Module):  \r\n",
        "        def __init__(self, num_labels, vocab_size):\r\n",
        "            super().__init__()\r\n",
        "            self.linear = nn.Linear(vocab_size, num_labels)\r\n",
        "        \r\n",
        "        def forward(self, bow_vec):\r\n",
        "            return F.log_softmax(self.linear(bow_vec), dim = 1)\r\n",
        "\r\n",
        "    print('Neural BoW analyse\\n')\r\n",
        "    label_to_ix = {0: 0, 1: 1 }\r\n",
        "    word_to_ix = {} #zbior slow z indywidualna liczba\r\n",
        "\r\n",
        "    sys.stdout.write('\\r=> Preparing..')\r\n",
        "    start = time.time()\r\n",
        "    TrSet = int(len(revs)*TrSet)\r\n",
        "    training_set=revs[:TrSet]\r\n",
        "    test_set=revs[TrSet:]\r\n",
        "    sys.stdout.write(f\"\\rPreparing time {time.time()-start:.2f} s\\n\")\r\n",
        "\r\n",
        "\r\n",
        "    sys.stdout.write('\\r=> Indexing..')\r\n",
        "    start = time.time()\r\n",
        "    for sent, _ in training_set + test_set:\r\n",
        "        for word in sent:\r\n",
        "            if word not in word_to_ix:\r\n",
        "                word_to_ix[word] = len(word_to_ix)\r\n",
        "    sys.stdout.write(f\"\\rIndexing time {time.time()-start:.2f} s\\n\")\r\n",
        "\r\n",
        "    VOCAB_SIZE = len(word_to_ix)  # ile wszysktich slow\r\n",
        "    NUM_LABELS = len(label_to_ix) # ile kategorii\r\n",
        "    print(f\"Vocabulary Size: {VOCAB_SIZE}\")\r\n",
        "    print(f\"Category amount: {NUM_LABELS}\\n\")\r\n",
        "\r\n",
        "    #parametry modelu, funkcji kosztu i optymalizator\r\n",
        "    model = BoWClassifier(NUM_LABELS, VOCAB_SIZE)\r\n",
        "    loss_function = nn.NLLLoss()\r\n",
        "    optimizer = torch.optim.SGD(model.parameters(), lr)\r\n",
        "\r\n",
        "    print(f'Model parameters:\\n> Training_set size: {len(training_set)} | Testing_set size: {len(test_set)}\\n> Learning Rate: {lr} | Iterations: {n_iters}')\r\n",
        "\r\n",
        "    print('\\nTraining BoWClassifier model..')\r\n",
        "\r\n",
        "    for epoch in range(n_iters):\r\n",
        "        for instance, label in training_set:     \r\n",
        "            bow_vec = autograd.Variable(make_bow_vector(instance, word_to_ix))\r\n",
        "            target = autograd.Variable(make_target(label, label_to_ix))\r\n",
        "    \r\n",
        "            #forward\r\n",
        "            log_probs = model(bow_vec)\r\n",
        "            loss = loss_function(log_probs, target)\r\n",
        "        \r\n",
        "            #backward\r\n",
        "            loss.backward()\r\n",
        "            optimizer.step()\r\n",
        "        \r\n",
        "            #zerujemy gradient\r\n",
        "            optimizer.zero_grad()\r\n",
        "\r\n",
        "        if epoch % int(n_iters/5) == 0:\r\n",
        "            print(f'Epoch number: {epoch+1} \\t| Loss value: {loss}')\r\n",
        "    print('> Done')\r\n",
        "\r\n",
        "    for instance, label in test_set:\r\n",
        "        bow_vec = autograd.Variable(make_bow_vector(instance, word_to_ix))\r\n",
        "        log_probs = model(bow_vec)\r\n",
        "\r\n",
        "    return (list(model.parameters()))"
      ],
      "execution_count": null,
      "outputs": []
    },
    {
      "cell_type": "code",
      "metadata": {
        "id": "1_CwKfJvKF15",
        "colab": {
          "base_uri": "https://localhost:8080/"
        },
        "outputId": "178e7b8d-d1ae-430d-a748-35989d861506"
      },
      "source": [
        "#odpalam przejście analizy opartej o BoW\r\n",
        "BoWmodel_params = bow_and_web(a, TrSet=0.8, lr=0.1, n_iters=100)\r\n",
        "print(f'\\n> {BoWmodel_params[0]}\\n> {BoWmodel_params[1]}')"
      ],
      "execution_count": null,
      "outputs": [
        {
          "output_type": "stream",
          "text": [
            "Neural BoW analyse\n",
            "\n",
            "\r=> Preparing..\rPreparing time 0.00 s\n",
            "\r=> Indexing..\rIndexing time 0.17 s\n",
            "Vocabulary Size: 50878\n",
            "Category amount: 2\n",
            "\n",
            "Model parameters:\n",
            "> Training_set size: 8000 | Testing_set size: 2000\n",
            "> Learning Rate: 0.1 | Iterations: 100\n",
            "\n",
            "Training BoWClassifier model..\n",
            "Epoch number: 1 \t| Loss value: 0.590408980846405\n",
            "Epoch number: 21 \t| Loss value: 0.5590711832046509\n",
            "Epoch number: 41 \t| Loss value: 0.5500576496124268\n",
            "Epoch number: 61 \t| Loss value: 0.5445957779884338\n",
            "Epoch number: 81 \t| Loss value: 0.541379988193512\n",
            "> Done\n",
            "\n",
            "> Parameter containing:\n",
            "tensor([[ 4.8564e-01,  1.7428e+00,  3.2891e-03,  ..., -7.7287e-04,\n",
            "          3.2595e-03,  2.0140e-03],\n",
            "        [-4.8802e-01, -1.7435e+00,  6.6148e-04,  ..., -1.6587e-03,\n",
            "         -7.3867e-04, -7.7657e-04]], requires_grad=True)\n",
            "> Parameter containing:\n",
            "tensor([ 0.0143, -0.0203], requires_grad=True)\n"
          ],
          "name": "stdout"
        }
      ]
    },
    {
      "cell_type": "markdown",
      "metadata": {
        "id": "EFI9KWvPCMOK"
      },
      "source": [
        "2. Embeddingi 200D {200 wymiarów }:\r\n",
        "> Każda recenzja jako suma/srednia aryt. jej embeddingów.\r\n",
        "\r\n",
        "Ładujemy embeddingi:"
      ]
    },
    {
      "cell_type": "code",
      "metadata": {
        "id": "r00BmuSsC6nv",
        "colab": {
          "base_uri": "https://localhost:8080/"
        },
        "outputId": "d68ca0d9-0031-4e91-bb8d-6196b32969a5"
      },
      "source": [
        "glove = torchtext.vocab.GloVe(name=\"6B\", dim=200)"
      ],
      "execution_count": null,
      "outputs": [
        {
          "output_type": "stream",
          "text": [
            ".vector_cache/glove.6B.zip: 862MB [06:26, 2.23MB/s]                           \n",
            "100%|█████████▉| 399082/400000 [00:30<00:00, 12796.46it/s]"
          ],
          "name": "stderr"
        }
      ]
    },
    {
      "cell_type": "markdown",
      "metadata": {
        "id": "PauJ21o5nLqq"
      },
      "source": [
        "Definiujemy funkcję zwracającą listy sum wektorów dla danych recenzji podzielone na trzy zestawy: \r\n",
        "*   Treningowy[0.70]\r\n",
        "*   Walidacyjny[0.15]\r\n",
        "*   Testowy[0.15]\r\n",
        "\r\n"
      ]
    },
    {
      "cell_type": "code",
      "metadata": {
        "id": "z4zMiHfLC-a4"
      },
      "source": [
        "def get_vectors(glove_vector, revs):\r\n",
        "    train, valid, test = [], [], [] \r\n",
        "    for i, line in enumerate(revs): \r\n",
        "        rev = line[0]                 \r\n",
        "    \r\n",
        "        rev_emb = sum(glove_vector[w] for w in rev) \r\n",
        "        label = torch.tensor(int(line[1] == 1)).long() \r\n",
        "            \r\n",
        "        #dzielimy dane na trzy kategorie\r\n",
        "        if i % len(revs) < int(0.7*len(revs)):     \r\n",
        "            train.append((rev_emb, label)) \r\n",
        "        elif i == int(0.7*len(revs)):\r\n",
        "            valid.append((rev_emb, label))\r\n",
        "        elif i > int(0.7*len(revs)) and i < int(0.85*len(revs)):\r\n",
        "            valid.append((rev_emb, label))\r\n",
        "        else:            \r\n",
        "            test.append((rev_emb, label)) \r\n",
        "            \r\n",
        "    return train, valid, test\r\n"
      ],
      "execution_count": null,
      "outputs": []
    },
    {
      "cell_type": "code",
      "metadata": {
        "id": "RPLpBCm9DA-7"
      },
      "source": [
        "#trenowanie\r\n",
        "def train_network(model, train_loader, valid_loader, num_epochs=5, learning_rate=1e-5, pltout=True):\r\n",
        "    print('Neural Glove analyse\\n')\r\n",
        "    criterion = nn.CrossEntropyLoss()  #funkcja kosztu\r\n",
        "    optimizer = torch.optim.Adam(model.parameters(), lr=learning_rate) \r\n",
        "    losses, train_acc, valid_acc = [], [], []\r\n",
        "    epochs = []\r\n",
        "    \r\n",
        "    print(f'Model parameters:\\n> Training_set size: {len(train_loader.dataset)} | Valid_set size: {len(valid_loader.dataset)} | Testing_set size: {len(test_loader.dataset)}\\\r\n",
        "\\n> Learning Rate: {learning_rate} | Iterations: {num_epochs}')\r\n",
        "    time.sleep(1)\r\n",
        "\r\n",
        "    for epoch in range(num_epochs):          \r\n",
        "        for tweets, labels in train_loader:  \r\n",
        "            optimizer.zero_grad()\r\n",
        "            pred = model(tweets)         \r\n",
        "            loss = criterion(pred, labels)\r\n",
        "            loss.backward()\r\n",
        "            optimizer.step()\r\n",
        "        losses.append(float(loss))           #zapisuje wartosc funkcji kosztu\r\n",
        "        \r\n",
        "        \r\n",
        "        if epoch % int(num_epochs/5) == 0:                   \r\n",
        "            epochs.append(epoch)             \r\n",
        "            train_acc.append(get_accuracy(model, train_loader))   #dokladnosc na zbiorze treningowym\r\n",
        "            valid_acc.append(get_accuracy(model, valid_loader))   #dokladnosc na zbiorze walidacyjnym\r\n",
        "            print(f'Epoch number: {epoch+1} | Loss value: {loss} | Train accuracy: {round(train_acc[-1],3)} | Valid accuracy: {round(valid_acc[-1],3)}')\r\n",
        "  \r\n",
        "    #Wykresy\r\n",
        "    if pltout:\r\n",
        "      plt.title(\"Training Curve\")\r\n",
        "      plt.plot(losses, label=\"Train dataset\")\r\n",
        "      plt.xlabel(\"Epoch number\")\r\n",
        "      plt.ylabel(\"Loss value\")\r\n",
        "      plt.show()\r\n",
        "\r\n",
        "      plt.title(\"Training Curve\")\r\n",
        "      plt.plot(epochs, train_acc, label=\"Train dataset\")\r\n",
        "      plt.plot(epochs, valid_acc, label=\"Validation dataset\")\r\n",
        "      plt.xlabel(\"Epoch number\")\r\n",
        "      plt.ylabel(\"Accuracy\")\r\n",
        "      plt.legend(loc='best')\r\n",
        "      plt.show()"
      ],
      "execution_count": null,
      "outputs": []
    },
    {
      "cell_type": "code",
      "metadata": {
        "id": "3SmwowhBDDLc"
      },
      "source": [
        "#Funkcja wyznaczająca dokładność predykcji:\r\n",
        "def get_accuracy(model, data_loader):\r\n",
        "    correct, total = 0, 0  \r\n",
        "    for revs, labels in data_loader: \r\n",
        "        output = model(revs)         \r\n",
        "        pred = output.max(1, keepdim=True)[1]  \r\n",
        "        correct += pred.eq(labels.view_as(pred)).sum().item()\r\n",
        "        total += labels.shape[0]\r\n",
        "    return correct / total"
      ],
      "execution_count": null,
      "outputs": []
    },
    {
      "cell_type": "code",
      "metadata": {
        "id": "yPhq-bcMTYsj"
      },
      "source": [
        "train, valid, test = get_vectors(glove, a)\r\n",
        "\r\n",
        "#za kazdym razem będzie bral 200 rekordow (przy trenowaniu) i co epoke tasujemy (shuffle = True)\r\n",
        "train_loader = torch.utils.data.DataLoader(train, batch_size=200, shuffle=True)\r\n",
        "valid_loader = torch.utils.data.DataLoader(valid, batch_size=200, shuffle=True)\r\n",
        "test_loader = torch.utils.data.DataLoader(test, batch_size=200, shuffle=True)"
      ],
      "execution_count": null,
      "outputs": []
    },
    {
      "cell_type": "code",
      "metadata": {
        "id": "v1LogwapDG5j",
        "colab": {
          "base_uri": "https://localhost:8080/",
          "height": 777
        },
        "outputId": "d83ed977-ae6f-48f3-8e52-93ef1dcb0098"
      },
      "source": [
        "siec = nn.Sequential(nn.Linear(200, 50),  #przekształcenie liniowe R^200 ---> R^50\r\n",
        "                        nn.ReLU(),          #przekształcenie ReLU\r\n",
        "                        nn.Linear(50, 10),  #kolejne przekształcenie liniowe R^50--->R^10\r\n",
        "                        nn.ReLU(),          #przekształcenie ReLU\r\n",
        "                        nn.Linear(10, 2))   # przekształcenie liniowe, efekt: 2 liczby\r\n",
        "                        \r\n",
        "\r\n",
        "train_network(siec, train_loader, valid_loader, num_epochs=100, learning_rate=0.0001)\r\n",
        "\r\n",
        "print(\"Final test accuracy:\", get_accuracy(siec, test_loader)) #dokladnosc na zbiorze testowym"
      ],
      "execution_count": null,
      "outputs": [
        {
          "output_type": "stream",
          "text": [
            "Neural Glove analyse\n",
            "\n",
            "Model parameters:\n",
            "> Training_set size: 7000 | Valid_set size: 1500 | Testing_set size: 1500\n",
            "> Learning Rate: 0.0001 | Iterations: 100\n",
            "Epoch number: 1 | Loss value: 0.6769161224365234 | Train accuracy: 0.565 | Valid accuracy: 0.559\n",
            "Epoch number: 21 | Loss value: 0.409688800573349 | Train accuracy: 0.824 | Valid accuracy: 0.807\n",
            "Epoch number: 41 | Loss value: 0.421071320772171 | Train accuracy: 0.836 | Valid accuracy: 0.807\n",
            "Epoch number: 61 | Loss value: 0.35759180784225464 | Train accuracy: 0.847 | Valid accuracy: 0.805\n",
            "Epoch number: 81 | Loss value: 0.3078024983406067 | Train accuracy: 0.858 | Valid accuracy: 0.795\n"
          ],
          "name": "stdout"
        },
        {
          "output_type": "stream",
          "text": [
            "\r100%|█████████▉| 399542/400000 [00:49<00:00, 12776.41it/s]"
          ],
          "name": "stderr"
        },
        {
          "output_type": "display_data",
          "data": {
            "image/png": "[encoded data removed]",
            "text/plain": [
              "<Figure size 432x288 with 1 Axes>"
            ]
          },
          "metadata": {
            "tags": [],
            "needs_background": "light"
          }
        },
        {
          "output_type": "display_data",
          "data": {
            "image/png": "[encoded data removed]",
            "text/plain": [
              "<Figure size 432x288 with 1 Axes>"
            ]
          },
          "metadata": {
            "tags": [],
            "needs_background": "light"
          }
        },
        {
          "output_type": "stream",
          "text": [
            "Final test accuracy: 0.7993333333333333\n"
          ],
          "name": "stdout"
        }
      ]
    },
    {
      "cell_type": "markdown",
      "metadata": {
        "id": "u-BgxdWut842"
      },
      "source": [
        "3. Embeddingi 200D + LSTM lub/oraz GRU"
      ]
    },
    {
      "cell_type": "markdown",
      "metadata": {
        "id": "In1Et1sYCH9Z"
      },
      "source": [
        "LSTM"
      ]
    },
    {
      "cell_type": "code",
      "metadata": {
        "id": "khxRqClVPMOA"
      },
      "source": [
        "def get_indx(glove_vector, revs):\r\n",
        "    train, valid, test = [], [], [] \r\n",
        "    for i, line in enumerate(revs): \r\n",
        "        rev = line[0]                 \r\n",
        "    \r\n",
        "        \r\n",
        "        idx = [glove_vector.stoi[w] for w in rev if w in glove_vector.stoi]\r\n",
        "        if not idx:\r\n",
        "          continue\r\n",
        "        idx = torch.tensor(idx)\r\n",
        "        label = torch.tensor(int(line[0] == 1)).long()\r\n",
        "        #dzielimy dane na trzy kategorie\r\n",
        "        if i % len(revs) < int(0.7*len(revs)):     \r\n",
        "            train.append((idx, label)) \r\n",
        "        elif i == int(0.7*len(revs)):\r\n",
        "            valid.append((idx, label))\r\n",
        "        elif i > int(0.7*len(revs)) and i < int(0.85*len(revs)):\r\n",
        "            valid.append((idx, label))\r\n",
        "        else:            \r\n",
        "            test.append((idx, label)) \r\n",
        "            \r\n",
        "    return train, valid, test\r\n"
      ],
      "execution_count": null,
      "outputs": []
    },
    {
      "cell_type": "code",
      "metadata": {
        "id": "7gPurDddqCIe"
      },
      "source": [
        "class T_LSTM(nn.Module):\r\n",
        "    def __init__(self, input_size, hidden_size, num_classes):\r\n",
        "        super().__init__()\r\n",
        "        self.emb = nn.Embedding.from_pretrained(glove.vectors) #embeddingi\r\n",
        "        self.hidden_size = hidden_size\r\n",
        "        self.lstm = nn.LSTM(input_size, hidden_size, batch_first=True) #LSTM\r\n",
        "        self.fc = nn.Linear(hidden_size, num_classes)  #przeksztalcenie liniowe\r\n",
        "    \r\n",
        "    def forward(self, x):\r\n",
        "        x = self.emb(x)\r\n",
        "        h0 = torch.zeros(1, x.size(0), self.hidden_size) #początkowy  h0\r\n",
        "        c0 = torch.zeros(1, x.size(0), self.hidden_size) #początkowy c0\r\n",
        "        out, _ = self.lstm(x, (h0, c0))  #LSTM\r\n",
        "        out = self.fc(out[:, -1, :]) #liniowe przekształcenie ostatniego outputu\r\n",
        "        return out"
      ],
      "execution_count": null,
      "outputs": []
    },
    {
      "cell_type": "code",
      "metadata": {
        "id": "rXeXEHN-u6Zt"
      },
      "source": [
        "import random\r\n",
        "\r\n",
        "class TBatcher:\r\n",
        "    def __init__(self, revs, batch_size=32, drop_last=False):\r\n",
        "        self.revs_by_length = {} \r\n",
        "        for words, label in revs:\r\n",
        "            wlen = words.shape[0] \r\n",
        "            \r\n",
        "            if wlen not in self.revs_by_length: \r\n",
        "                self.revs_by_length[wlen] = []  \r\n",
        "                \r\n",
        "            self.revs_by_length[wlen].append((words, label),) \r\n",
        "         \r\n",
        "        #DataLoader dla kazdego zbioru tweetow o tej samej dlugosci\r\n",
        "        self.loaders = {wlen : torch.utils.data.DataLoader(revs, batch_size=batch_size, shuffle=True, drop_last=drop_last) for wlen, revs in self.revs_by_length.items()}\r\n",
        "    \r\n",
        "    \r\n",
        "    def __iter__(self): \r\n",
        "        iters = [iter(loader) for loader in self.loaders.values()] \r\n",
        "        while iters:\r\n",
        "            im = random.choice(iters) \r\n",
        "            try:\r\n",
        "                yield next(im)      \r\n",
        "            except StopIteration:\r\n",
        "                iters.remove(im)"
      ],
      "execution_count": null,
      "outputs": []
    },
    {
      "cell_type": "code",
      "metadata": {
        "id": "9yWr59JtrAL2"
      },
      "source": [
        "#funkcja do treningu\r\n",
        "\r\n",
        "def md_train(model, train, valid, num_epochs=5, learning_rate=1e-5):\r\n",
        "    criterion = nn.CrossEntropyLoss() \r\n",
        "    optimizer = torch.optim.Adam(model.parameters(), lr=learning_rate) \r\n",
        "    losses, train_acc, valid_acc, epochs = [], [], [], []  \r\n",
        "    \r\n",
        "    for epoch in range(num_epochs): \r\n",
        "        for revs, labels in train: \r\n",
        "            optimizer.zero_grad()   \r\n",
        "            pred = model(revs)   \r\n",
        "            loss = criterion(pred, labels)   #wartosc funkcji kosztu \r\n",
        "            loss.backward()                  #pochodna po funkcji kosztu\r\n",
        "            optimizer.step()                 #aktualizacja parametrow\r\n",
        "        losses.append(float(loss))           #zapisz aktualną wartosc funkcji kosztu\r\n",
        "        epochs.append(epoch)                 #zapisz aktualny numer epoki\r\n",
        "        train_acc.append(get_accuracy(model, train_loader))   #dokladnosc na zbiorze treningowym\r\n",
        "        valid_acc.append(get_accuracy(model, valid_loader))   #dokladnosc na zbiorze walidacyjnym\r\n",
        "        print(f'Epoch number: {epoch+1} | Loss value: {loss} | Train accuracy: {round(train_acc[-1],3)} | Valid accuracy: {round(valid_acc[-1],3)}')\r\n",
        " \r\n",
        "    #Rysowanie wykresow\r\n",
        "    plt.title(\"Training Curve\")\r\n",
        "    plt.plot(losses, label=\"Train dataset\")\r\n",
        "    plt.xlabel(\"Epoch number\")\r\n",
        "    plt.ylabel(\"Loss value\")\r\n",
        "    plt.show()\r\n",
        "\r\n",
        "    plt.title(\"Training Curve\")\r\n",
        "    plt.plot(epochs, train_acc, label=\"Train dataset\")\r\n",
        "    plt.plot(epochs, valid_acc, label=\"Validation dataset\")\r\n",
        "    plt.xlabel(\"Epoch number\")\r\n",
        "    plt.ylabel(\"Accuracy\")\r\n",
        "    plt.legend(loc='best')\r\n",
        "    plt.show()"
      ],
      "execution_count": null,
      "outputs": []
    },
    {
      "cell_type": "code",
      "metadata": {
        "id": "tqhVHl_0QADI"
      },
      "source": [
        "train, valid, test = get_indx(glove, a)"
      ],
      "execution_count": null,
      "outputs": []
    },
    {
      "cell_type": "code",
      "metadata": {
        "id": "GY5udWIpcDvb"
      },
      "source": [
        "rev0, label0 = train[0]"
      ],
      "execution_count": null,
      "outputs": []
    },
    {
      "cell_type": "code",
      "metadata": {
        "id": "NeDSf7aGcFT9"
      },
      "source": [
        "glove_emb = nn.Embedding.from_pretrained(glove.vectors) \r\n",
        "reev_emb = glove_emb(rev0)"
      ],
      "execution_count": null,
      "outputs": []
    },
    {
      "cell_type": "code",
      "metadata": {
        "id": "7OGsvPVEc3wz"
      },
      "source": [
        "reev_input = reev_emb.unsqueeze(0)"
      ],
      "execution_count": null,
      "outputs": []
    },
    {
      "cell_type": "code",
      "metadata": {
        "id": "pG6wdtW6d233"
      },
      "source": [
        "lstm_layer = nn.LSTM(input_size=200,   \r\n",
        "                    hidden_size=5,   \r\n",
        "                    batch_first=True) "
      ],
      "execution_count": null,
      "outputs": []
    },
    {
      "cell_type": "code",
      "metadata": {
        "colab": {
          "base_uri": "https://localhost:8080/"
        },
        "id": "l52MoRgHd3Gc",
        "outputId": "df5b7876-6937-4c45-a089-a07062ccad17"
      },
      "source": [
        "h0 = torch.zeros(1, 1, 5)     #początkowy stan ukryty\r\n",
        "c0 = torch.zeros(1, 1, 5)     #początkowy cell state, przechowuje pamiec dlugotrwala\r\n",
        "out, last_hidden = lstm_layer(reev_input, (h0, c0)) #drugi argument sklada sie z h0 i c0 \r\n",
        "out.shape"
      ],
      "execution_count": null,
      "outputs": [
        {
          "output_type": "execute_result",
          "data": {
            "text/plain": [
              "torch.Size([1, 121, 5])"
            ]
          },
          "metadata": {
            "tags": []
          },
          "execution_count": 63
        }
      ]
    },
    {
      "cell_type": "code",
      "metadata": {
        "colab": {
          "base_uri": "https://localhost:8080/"
        },
        "id": "c6nv_ox-v0_e",
        "outputId": "810df771-f61e-4faa-9c6f-f97cdcaac9c7"
      },
      "source": [
        "train_TB = TBatcher(train, drop_last=True) \r\n",
        "\r\n",
        "\r\n",
        "for i, (revs, labels) in enumerate(train_TB):\r\n",
        "    if i > 5: \r\n",
        "        break\r\n",
        "    print(revs.shape, labels.shape) "
      ],
      "execution_count": null,
      "outputs": [
        {
          "output_type": "stream",
          "text": [
            "torch.Size([32, 58]) torch.Size([32])\n",
            "torch.Size([32, 60]) torch.Size([32])\n",
            "torch.Size([32, 55]) torch.Size([32])\n",
            "torch.Size([32, 59]) torch.Size([32])\n",
            "torch.Size([32, 61]) torch.Size([32])\n",
            "torch.Size([32, 79]) torch.Size([32])\n"
          ],
          "name": "stdout"
        }
      ]
    },
    {
      "cell_type": "code",
      "metadata": {
        "colab": {
          "base_uri": "https://localhost:8080/"
        },
        "id": "81qwuMYn1jYy",
        "outputId": "45e5e745-1cec-4097-8f43-5291ce6e59cf"
      },
      "source": [
        "model_lstm = T_LSTM(200, 5, 2) #model - warstwa ukryta moze miec inny wymiar\r\n",
        "test_loader = TBatcher(test, batch_size=64, drop_last=False)\r\n",
        "get_accuracy(model_lstm, test_loader)"
      ],
      "execution_count": null,
      "outputs": [
        {
          "output_type": "execute_result",
          "data": {
            "text/plain": [
              "0.5926666666666667"
            ]
          },
          "metadata": {
            "tags": []
          },
          "execution_count": 95
        }
      ]
    },
    {
      "cell_type": "code",
      "metadata": {
        "id": "ry8VsVuyw4RW"
      },
      "source": [
        "train_loader = TBatcher(train, batch_size=64, drop_last=True)  #dane treningowe z batchem\r\n",
        "valid_loader = TBatcher(valid, batch_size=64, drop_last=False)  #dane walidacyjne z batchem"
      ],
      "execution_count": null,
      "outputs": []
    },
    {
      "cell_type": "code",
      "metadata": {
        "colab": {
          "base_uri": "https://localhost:8080/",
          "height": 825
        },
        "id": "xrpEayCJqGQ9",
        "outputId": "32b40d7f-7273-49ac-f46c-830d326f030d"
      },
      "source": [
        "model_lstm = T_LSTM(200, 5, 2) #model - warstwa ukryta moze miec inny wymiar\r\n",
        "md_train(model_lstm, train_loader, valid_loader, num_epochs=15, learning_rate=2e-4)"
      ],
      "execution_count": null,
      "outputs": [
        {
          "output_type": "stream",
          "text": [
            "Epoch number: 1 | Loss value: 0.6628507375717163 | Train accuracy: 0.741 | Valid accuracy: 0.774\n",
            "Epoch number: 2 | Loss value: 0.6264715790748596 | Train accuracy: 0.855 | Valid accuracy: 0.879\n",
            "Epoch number: 3 | Loss value: 0.5757645964622498 | Train accuracy: 0.943 | Valid accuracy: 0.941\n",
            "Epoch number: 4 | Loss value: 0.5384886264801025 | Train accuracy: 0.966 | Valid accuracy: 0.973\n",
            "Epoch number: 5 | Loss value: 0.4981085956096649 | Train accuracy: 0.984 | Valid accuracy: 0.984\n",
            "Epoch number: 6 | Loss value: 0.4803403615951538 | Train accuracy: 0.991 | Valid accuracy: 0.988\n",
            "Epoch number: 7 | Loss value: 0.4194274842739105 | Train accuracy: 0.997 | Valid accuracy: 0.993\n",
            "Epoch number: 8 | Loss value: 0.3783450722694397 | Train accuracy: 0.998 | Valid accuracy: 0.996\n",
            "Epoch number: 9 | Loss value: 0.3484369218349457 | Train accuracy: 0.998 | Valid accuracy: 0.997\n",
            "Epoch number: 10 | Loss value: 0.3262917995452881 | Train accuracy: 0.999 | Valid accuracy: 0.998\n",
            "Epoch number: 11 | Loss value: 0.28666868805885315 | Train accuracy: 0.998 | Valid accuracy: 0.998\n",
            "Epoch number: 12 | Loss value: 0.29270464181900024 | Train accuracy: 0.999 | Valid accuracy: 0.998\n",
            "Epoch number: 13 | Loss value: 0.25569474697113037 | Train accuracy: 0.999 | Valid accuracy: 0.998\n",
            "Epoch number: 14 | Loss value: 0.23103514313697815 | Train accuracy: 0.999 | Valid accuracy: 0.999\n",
            "Epoch number: 15 | Loss value: 0.2026899755001068 | Train accuracy: 0.999 | Valid accuracy: 0.999\n"
          ],
          "name": "stdout"
        },
        {
          "output_type": "display_data",
          "data": {
            "image/png": "[encoded data removed]",
            "text/plain": [
              "<Figure size 432x288 with 1 Axes>"
            ]
          },
          "metadata": {
            "tags": [],
            "needs_background": "light"
          }
        },
        {
          "output_type": "display_data",
          "data": {
            "image/png": "[encoded data removed]",
            "text/plain": [
              "<Figure size 432x288 with 1 Axes>"
            ]
          },
          "metadata": {
            "tags": [],
            "needs_background": "light"
          }
        }
      ]
    },
    {
      "cell_type": "code",
      "metadata": {
        "colab": {
          "base_uri": "https://localhost:8080/"
        },
        "id": "fsDGmlAO5x-s",
        "outputId": "b046b78a-9e9f-419b-a93b-3c29a650296a"
      },
      "source": [
        "print('Dokładność na zbiorze testowym wynosi : {:.4f}'.format(get_accuracy(model_lstm, test_loader)))"
      ],
      "execution_count": null,
      "outputs": [
        {
          "output_type": "stream",
          "text": [
            "Dokładność na zbiorze testowym wynosi : 0.9993\n"
          ],
          "name": "stdout"
        }
      ]
    },
    {
      "cell_type": "markdown",
      "metadata": {
        "id": "eMKtC8VF4_iq"
      },
      "source": [
        "GRU"
      ]
    },
    {
      "cell_type": "code",
      "metadata": {
        "id": "-H6qvQbF5Vlk"
      },
      "source": [
        "class T_GRU(nn.Module):\r\n",
        "    def __init__(self, input_size, hidden_size, num_classes):\r\n",
        "        super().__init__()\r\n",
        "        self.emb = nn.Embedding.from_pretrained(glove.vectors) #embeddingi\r\n",
        "        self.hidden_size = hidden_size \r\n",
        "        self.gru = nn.GRU(input_size, hidden_size, batch_first=True)  #GRU\r\n",
        "        self.fc = nn.Linear(hidden_size, num_classes)   #przeksztalcenie liniowe\r\n",
        "    \r\n",
        "    def forward(self, x):\r\n",
        "        x = self.emb(x)  #embeddingi\r\n",
        "        h0 = torch.zeros(1, x.size(0), self.hidden_size) #początkowy stan ukryty\r\n",
        "        out, _ = self.gru(x, h0)   #GRU\r\n",
        "        out = self.fc(out[:, -1, :]) #ostatni output przeksztalcamy liniowo jeszcze\r\n",
        "        return out"
      ],
      "execution_count": null,
      "outputs": []
    },
    {
      "cell_type": "code",
      "metadata": {
        "id": "515Kquaz4-q2"
      },
      "source": [
        "gru_layer = nn.GRU(input_size=200,   \r\n",
        "                   hidden_size=5,   \r\n",
        "                   batch_first=True) "
      ],
      "execution_count": null,
      "outputs": []
    },
    {
      "cell_type": "code",
      "metadata": {
        "colab": {
          "base_uri": "https://localhost:8080/"
        },
        "id": "ipqmlsC75MNv",
        "outputId": "316b8e3b-a9fd-4a01-e726-499fa454a55c"
      },
      "source": [
        "h0 = torch.zeros(1, 1, 5)     #początkowy stan ukryty\r\n",
        "out, last_hidden = gru_layer(reev_input, h0)  \r\n",
        "out.shape"
      ],
      "execution_count": null,
      "outputs": [
        {
          "output_type": "execute_result",
          "data": {
            "text/plain": [
              "torch.Size([1, 121, 5])"
            ]
          },
          "metadata": {
            "tags": []
          },
          "execution_count": 100
        }
      ]
    },
    {
      "cell_type": "code",
      "metadata": {
        "colab": {
          "base_uri": "https://localhost:8080/",
          "height": 825
        },
        "id": "HBLp5GtL5b2b",
        "outputId": "777681f5-2e82-4525-978f-e7b11b57e1cf"
      },
      "source": [
        "model_gru = T_GRU(200, 5, 2) \r\n",
        "md_train(model_gru, train_loader, valid_loader, num_epochs=15, learning_rate=2e-4) "
      ],
      "execution_count": null,
      "outputs": [
        {
          "output_type": "stream",
          "text": [
            "Epoch number: 1 | Loss value: 0.926423192024231 | Train accuracy: 0.107 | Valid accuracy: 0.1\n",
            "Epoch number: 2 | Loss value: 0.8195462822914124 | Train accuracy: 0.199 | Valid accuracy: 0.189\n",
            "Epoch number: 3 | Loss value: 0.7598214745521545 | Train accuracy: 0.349 | Valid accuracy: 0.347\n",
            "Epoch number: 4 | Loss value: 0.6576436161994934 | Train accuracy: 0.511 | Valid accuracy: 0.488\n",
            "Epoch number: 5 | Loss value: 0.6768587827682495 | Train accuracy: 0.659 | Valid accuracy: 0.641\n",
            "Epoch number: 6 | Loss value: 0.5576873421669006 | Train accuracy: 0.782 | Valid accuracy: 0.748\n",
            "Epoch number: 7 | Loss value: 0.5508974194526672 | Train accuracy: 0.842 | Valid accuracy: 0.825\n",
            "Epoch number: 8 | Loss value: 0.4818384349346161 | Train accuracy: 0.898 | Valid accuracy: 0.87\n",
            "Epoch number: 9 | Loss value: 0.46335867047309875 | Train accuracy: 0.922 | Valid accuracy: 0.907\n",
            "Epoch number: 10 | Loss value: 0.4317495822906494 | Train accuracy: 0.945 | Valid accuracy: 0.935\n",
            "Epoch number: 11 | Loss value: 0.4206995666027069 | Train accuracy: 0.957 | Valid accuracy: 0.958\n",
            "Epoch number: 12 | Loss value: 0.3834441304206848 | Train accuracy: 0.972 | Valid accuracy: 0.968\n",
            "Epoch number: 13 | Loss value: 0.32962939143180847 | Train accuracy: 0.979 | Valid accuracy: 0.975\n",
            "Epoch number: 14 | Loss value: 0.32354405522346497 | Train accuracy: 0.984 | Valid accuracy: 0.98\n",
            "Epoch number: 15 | Loss value: 0.3125292658805847 | Train accuracy: 0.989 | Valid accuracy: 0.985\n"
          ],
          "name": "stdout"
        },
        {
          "output_type": "display_data",
          "data": {
            "image/png": "[encoded data removed]",
            "text/plain": [
              "<Figure size 432x288 with 1 Axes>"
            ]
          },
          "metadata": {
            "tags": [],
            "needs_background": "light"
          }
        },
        {
          "output_type": "display_data",
          "data": {
            "image/png": "[encoded data removed]",
            "text/plain": [
              "<Figure size 432x288 with 1 Axes>"
            ]
          },
          "metadata": {
            "tags": [],
            "needs_background": "light"
          }
        }
      ]
    },
    {
      "cell_type": "code",
      "metadata": {
        "colab": {
          "base_uri": "https://localhost:8080/"
        },
        "id": "IQALHxpp6ZE8",
        "outputId": "1d5859a7-dcd6-4d43-bc1e-525a5d4216af"
      },
      "source": [
        "print('Dokładność na zbiorze testowym wynosi : {:.4f}'.format(get_accuracy(model_gru, test_loader)))"
      ],
      "execution_count": null,
      "outputs": [
        {
          "output_type": "stream",
          "text": [
            "Dokładność na zbiorze testowym wynosi : 0.9833\n"
          ],
          "name": "stdout"
        }
      ]
    }
  ]
}